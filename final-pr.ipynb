{
 "cells": [
  {
   "cell_type": "markdown",
   "metadata": {},
   "source": [
    "# TRABAJO FINAL PROCESAMIENTO DEL LENGUAJE NATURAL \n",
    "ALUMNOS : \n",
    "\n",
    "- ALEJANDRO MADRID GALARZA\n",
    "- ANTONIO JOSÉ LÓPEZ MARTÍNEZ\n"
   ]
  },
  {
   "cell_type": "markdown",
   "metadata": {},
   "source": [
    "### MOTIVACIÓN DEL TRABAJO\n",
    "Vamos a realizar una aplicacion 'python' en 'jupyter-lab' para la asignatura de Procesamiento del Lenguaje Natural en la que trataremos, con los conocimientos adquiridos en la asignatura así como todo lo que sea necesario para la resolución del mismo, una aplicación que clasifique un conjunto de más de 3500 'tweets' en un clasificador de 11 clases que corresponden a 11 emociones distintas sobre las que clasificaremos."
   ]
  },
  {
   "cell_type": "markdown",
   "metadata": {},
   "source": [
    "##### IMPORTS"
   ]
  },
  {
   "cell_type": "code",
   "execution_count": 249,
   "metadata": {},
   "outputs": [],
   "source": [
    "import pandas as pd\n",
    "import numpy as np\n",
    "import matplotlib.pyplot as plt\n",
    "import seaborn as sns\n",
    "import re\n",
    "import nltk\n",
    "import spacy\n",
    "import unidecode\n",
    "#\n",
    "from sklearn.model_selection import train_test_split\n",
    "from sklearn.preprocessing import LabelEncoder\n",
    "from sklearn.feature_extraction.text import TfidfVectorizer\n",
    "from sklearn.naive_bayes import MultinomialNB\n",
    "from sklearn.metrics import accuracy_score, precision_score, recall_score, f1_score, confusion_matrix, roc_auc_score, classification_report\n",
    "from sklearn.svm import SVC\n",
    "from sklearn.model_selection import cross_val_score\n",
    "#\n",
    "from spacy.lang.es.stop_words import STOP_WORDS\n",
    "from nltk.corpus import stopwords\n",
    "from nltk.tokenize import word_tokenize\n",
    "from nltk.stem import SnowballStemmer\n",
    "#\n",
    "import tensorflow as tf\n",
    "from tensorflow.keras.models import Sequential\n",
    "from tensorflow.keras.layers import LSTM, Dense, Embedding, Dropout, Dropout, Conv1D, MaxPooling1D, SpatialDropout1D, TimeDistributed, Flatten, Bidirectional, GlobalMaxPooling1D\n",
    "from tensorflow.keras.preprocessing.text import Tokenizer\n",
    "from tensorflow.keras.optimizers import Adam\n",
    "from tensorflow.keras.preprocessing.sequence import pad_sequences\n",
    "from tensorflow.keras.utils import to_categorical\n",
    "#\n"
   ]
  },
  {
   "cell_type": "markdown",
   "metadata": {},
   "source": [
    "### Cargamos los datos"
   ]
  },
  {
   "cell_type": "code",
   "execution_count": 168,
   "metadata": {},
   "outputs": [
    {
     "data": {
      "text/plain": [
       "((3561, 13), (679, 2))"
      ]
     },
     "execution_count": 168,
     "metadata": {},
     "output_type": "execute_result"
    }
   ],
   "source": [
    "train_data = pd.read_csv('Data/Train/sem_eval_train_es.csv')\n",
    "test_data = pd.read_csv('Data/Test/sem_eval_test_grupo_10.csv')\n",
    "train_data.shape, test_data.shape"
   ]
  },
  {
   "cell_type": "code",
   "execution_count": 169,
   "metadata": {},
   "outputs": [
    {
     "name": "stdout",
     "output_type": "stream",
     "text": [
      "--------------------------------\n",
      "Train Data\n",
      "--------------------------------\n",
      "<class 'pandas.core.frame.DataFrame'>\n",
      "RangeIndex: 3561 entries, 0 to 3560\n",
      "Data columns (total 13 columns):\n",
      " #   Column        Non-Null Count  Dtype \n",
      "---  ------        --------------  ----- \n",
      " 0   ID            3561 non-null   object\n",
      " 1   Tweet         3561 non-null   object\n",
      " 2   anger         3561 non-null   bool  \n",
      " 3   anticipation  3561 non-null   bool  \n",
      " 4   disgust       3561 non-null   bool  \n",
      " 5   fear          3561 non-null   bool  \n",
      " 6   joy           3561 non-null   bool  \n",
      " 7   love          3561 non-null   bool  \n",
      " 8   optimism      3561 non-null   bool  \n",
      " 9   pessimism     3561 non-null   bool  \n",
      " 10  sadness       3561 non-null   bool  \n",
      " 11  surprise      3561 non-null   bool  \n",
      " 12  trust         3561 non-null   bool  \n",
      "dtypes: bool(11), object(2)\n",
      "memory usage: 94.0+ KB\n",
      "None\n",
      "              ID                                              Tweet\n",
      "0  2018-Es-01579  Siguen los amigos que quiero tener, no me pued...\n",
      "1  2018-Es-05802  Baby a veces me hago la enojada solo porque qu...\n",
      "2  2018-Es-06306              @CandeSolsu Callate que sigo ofendida\n",
      "3  2018-Es-05268  Va a tener que pedir perdón por celebrar el dí...\n",
      "4  2018-Es-05545  Domingo, 23:36   Quiero escuchar música y cant...\n"
     ]
    }
   ],
   "source": [
    "print(\"--------------------------------\\nTrain Data\\n--------------------------------\")\n",
    "print(train_data.info())\n",
    "print(test_data.head())"
   ]
  },
  {
   "cell_type": "code",
   "execution_count": 170,
   "metadata": {},
   "outputs": [
    {
     "name": "stdout",
     "output_type": "stream",
     "text": [
      "--------------------------------\n",
      "Test Data\n",
      "--------------------------------\n",
      "<class 'pandas.core.frame.DataFrame'>\n",
      "RangeIndex: 679 entries, 0 to 678\n",
      "Data columns (total 2 columns):\n",
      " #   Column  Non-Null Count  Dtype \n",
      "---  ------  --------------  ----- \n",
      " 0   ID      679 non-null    object\n",
      " 1   Tweet   679 non-null    object\n",
      "dtypes: object(2)\n",
      "memory usage: 10.7+ KB\n",
      "None\n",
      "              ID                                              Tweet\n",
      "0  2018-Es-01579  Siguen los amigos que quiero tener, no me pued...\n",
      "1  2018-Es-05802  Baby a veces me hago la enojada solo porque qu...\n",
      "2  2018-Es-06306              @CandeSolsu Callate que sigo ofendida\n",
      "3  2018-Es-05268  Va a tener que pedir perdón por celebrar el dí...\n",
      "4  2018-Es-05545  Domingo, 23:36   Quiero escuchar música y cant...\n"
     ]
    }
   ],
   "source": [
    "print(\"--------------------------------\\nTest Data\\n--------------------------------\")\n",
    "print(test_data.info())\n",
    "print(test_data.head())"
   ]
  },
  {
   "cell_type": "markdown",
   "metadata": {},
   "source": [
    "Eliminamos los id's de los conjuntos ya que no nos aportan nada a la predicción"
   ]
  },
  {
   "cell_type": "code",
   "execution_count": 171,
   "metadata": {},
   "outputs": [
    {
     "data": {
      "text/plain": [
       "((3561, 12), (679, 1))"
      ]
     },
     "execution_count": 171,
     "metadata": {},
     "output_type": "execute_result"
    }
   ],
   "source": [
    "train_data = train_data.drop(['ID'], axis=1)\n",
    "test_data = test_data.drop(['ID'], axis=1)\n",
    "train_data.shape, test_data.shape"
   ]
  },
  {
   "cell_type": "code",
   "execution_count": 172,
   "metadata": {},
   "outputs": [
    {
     "data": {
      "text/html": [
       "<div>\n",
       "<style scoped>\n",
       "    .dataframe tbody tr th:only-of-type {\n",
       "        vertical-align: middle;\n",
       "    }\n",
       "\n",
       "    .dataframe tbody tr th {\n",
       "        vertical-align: top;\n",
       "    }\n",
       "\n",
       "    .dataframe thead th {\n",
       "        text-align: right;\n",
       "    }\n",
       "</style>\n",
       "<table border=\"1\" class=\"dataframe\">\n",
       "  <thead>\n",
       "    <tr style=\"text-align: right;\">\n",
       "      <th></th>\n",
       "      <th>Tweet</th>\n",
       "      <th>anger</th>\n",
       "      <th>anticipation</th>\n",
       "      <th>disgust</th>\n",
       "      <th>fear</th>\n",
       "      <th>joy</th>\n",
       "      <th>love</th>\n",
       "      <th>optimism</th>\n",
       "      <th>pessimism</th>\n",
       "      <th>sadness</th>\n",
       "      <th>surprise</th>\n",
       "      <th>trust</th>\n",
       "    </tr>\n",
       "  </thead>\n",
       "  <tbody>\n",
       "    <tr>\n",
       "      <th>0</th>\n",
       "      <td>@aliciaenp Ajajjaa somos del clan twitteras pe...</td>\n",
       "      <td>False</td>\n",
       "      <td>False</td>\n",
       "      <td>False</td>\n",
       "      <td>False</td>\n",
       "      <td>True</td>\n",
       "      <td>False</td>\n",
       "      <td>False</td>\n",
       "      <td>False</td>\n",
       "      <td>False</td>\n",
       "      <td>False</td>\n",
       "      <td>False</td>\n",
       "    </tr>\n",
       "    <tr>\n",
       "      <th>1</th>\n",
       "      <td>@AwadaNai la mala suerte del gato fichame la c...</td>\n",
       "      <td>False</td>\n",
       "      <td>False</td>\n",
       "      <td>False</td>\n",
       "      <td>True</td>\n",
       "      <td>False</td>\n",
       "      <td>False</td>\n",
       "      <td>False</td>\n",
       "      <td>True</td>\n",
       "      <td>False</td>\n",
       "      <td>False</td>\n",
       "      <td>False</td>\n",
       "    </tr>\n",
       "    <tr>\n",
       "      <th>2</th>\n",
       "      <td>@audiomano A mí tampoco me agrado mucho eso. E...</td>\n",
       "      <td>True</td>\n",
       "      <td>False</td>\n",
       "      <td>False</td>\n",
       "      <td>False</td>\n",
       "      <td>False</td>\n",
       "      <td>False</td>\n",
       "      <td>False</td>\n",
       "      <td>False</td>\n",
       "      <td>False</td>\n",
       "      <td>False</td>\n",
       "      <td>False</td>\n",
       "    </tr>\n",
       "    <tr>\n",
       "      <th>3</th>\n",
       "      <td>Para llevar a los bebes de un lugar a otro deb...</td>\n",
       "      <td>False</td>\n",
       "      <td>False</td>\n",
       "      <td>False</td>\n",
       "      <td>False</td>\n",
       "      <td>True</td>\n",
       "      <td>False</td>\n",
       "      <td>False</td>\n",
       "      <td>False</td>\n",
       "      <td>False</td>\n",
       "      <td>False</td>\n",
       "      <td>False</td>\n",
       "    </tr>\n",
       "    <tr>\n",
       "      <th>4</th>\n",
       "      <td>@DalasReview me encanta la terrible hipocresia...</td>\n",
       "      <td>True</td>\n",
       "      <td>False</td>\n",
       "      <td>True</td>\n",
       "      <td>False</td>\n",
       "      <td>False</td>\n",
       "      <td>False</td>\n",
       "      <td>False</td>\n",
       "      <td>False</td>\n",
       "      <td>False</td>\n",
       "      <td>False</td>\n",
       "      <td>False</td>\n",
       "    </tr>\n",
       "  </tbody>\n",
       "</table>\n",
       "</div>"
      ],
      "text/plain": [
       "                                               Tweet  anger  anticipation  \\\n",
       "0  @aliciaenp Ajajjaa somos del clan twitteras pe...  False         False   \n",
       "1  @AwadaNai la mala suerte del gato fichame la c...  False         False   \n",
       "2  @audiomano A mí tampoco me agrado mucho eso. E...   True         False   \n",
       "3  Para llevar a los bebes de un lugar a otro deb...  False         False   \n",
       "4  @DalasReview me encanta la terrible hipocresia...   True         False   \n",
       "\n",
       "   disgust   fear    joy   love  optimism  pessimism  sadness  surprise  trust  \n",
       "0    False  False   True  False     False      False    False     False  False  \n",
       "1    False   True  False  False     False       True    False     False  False  \n",
       "2    False  False  False  False     False      False    False     False  False  \n",
       "3    False  False   True  False     False      False    False     False  False  \n",
       "4     True  False  False  False     False      False    False     False  False  "
      ]
     },
     "execution_count": 172,
     "metadata": {},
     "output_type": "execute_result"
    }
   ],
   "source": [
    "train_data.head()"
   ]
  },
  {
   "cell_type": "code",
   "execution_count": 173,
   "metadata": {},
   "outputs": [
    {
     "data": {
      "text/plain": [
       "0    Siguen los amigos que quiero tener, no me pued...\n",
       "1    Baby a veces me hago la enojada solo porque qu...\n",
       "2                @CandeSolsu Callate que sigo ofendida\n",
       "3    Va a tener que pedir perdón por celebrar el dí...\n",
       "4    Domingo, 23:36   Quiero escuchar música y cant...\n",
       "Name: Tweet, dtype: object"
      ]
     },
     "execution_count": 173,
     "metadata": {},
     "output_type": "execute_result"
    }
   ],
   "source": [
    "test_data = test_data['Tweet']\n",
    "test_data.head()"
   ]
  },
  {
   "cell_type": "markdown",
   "metadata": {},
   "source": [
    "Ahora que hemos eliminado la columna de ID's de los conjuntos de entrenamiento y testeo tenemos que separar nuestros tweets de testeo que, como podemos observar tiene 12 dimensiones (11 de las diferentes emociones + 1 para los tweets). \n",
    "Los vamos a separar como: \n",
    "- $X=contenido$ $tweets$\n",
    "- $Y=categoría$ $tweet$"
   ]
  },
  {
   "cell_type": "code",
   "execution_count": 174,
   "metadata": {},
   "outputs": [
    {
     "data": {
      "text/plain": [
       "((3561,), (3561, 11))"
      ]
     },
     "execution_count": 174,
     "metadata": {},
     "output_type": "execute_result"
    }
   ],
   "source": [
    "X = train_data['Tweet']\n",
    "y = train_data.drop(['Tweet'], axis=1)\n",
    "X.shape, y.shape"
   ]
  },
  {
   "cell_type": "code",
   "execution_count": 175,
   "metadata": {},
   "outputs": [
    {
     "name": "stdout",
     "output_type": "stream",
     "text": [
      "<class 'pandas.core.series.Series'>\n",
      "RangeIndex: 3561 entries, 0 to 3560\n",
      "Series name: Tweet\n",
      "Non-Null Count  Dtype \n",
      "--------------  ----- \n",
      "3561 non-null   object\n",
      "dtypes: object(1)\n",
      "memory usage: 27.9+ KB\n",
      "None\n",
      "0    @aliciaenp Ajajjaa somos del clan twitteras pe...\n",
      "1    @AwadaNai la mala suerte del gato fichame la c...\n",
      "2    @audiomano A mí tampoco me agrado mucho eso. E...\n",
      "3    Para llevar a los bebes de un lugar a otro deb...\n",
      "4    @DalasReview me encanta la terrible hipocresia...\n",
      "Name: Tweet, dtype: object\n"
     ]
    }
   ],
   "source": [
    "print(X.info())\n",
    "print(X.head())"
   ]
  },
  {
   "cell_type": "code",
   "execution_count": 176,
   "metadata": {},
   "outputs": [
    {
     "name": "stdout",
     "output_type": "stream",
     "text": [
      "<class 'pandas.core.frame.DataFrame'>\n",
      "RangeIndex: 3561 entries, 0 to 3560\n",
      "Data columns (total 11 columns):\n",
      " #   Column        Non-Null Count  Dtype\n",
      "---  ------        --------------  -----\n",
      " 0   anger         3561 non-null   bool \n",
      " 1   anticipation  3561 non-null   bool \n",
      " 2   disgust       3561 non-null   bool \n",
      " 3   fear          3561 non-null   bool \n",
      " 4   joy           3561 non-null   bool \n",
      " 5   love          3561 non-null   bool \n",
      " 6   optimism      3561 non-null   bool \n",
      " 7   pessimism     3561 non-null   bool \n",
      " 8   sadness       3561 non-null   bool \n",
      " 9   surprise      3561 non-null   bool \n",
      " 10  trust         3561 non-null   bool \n",
      "dtypes: bool(11)\n",
      "memory usage: 38.4 KB\n",
      "None\n",
      "   anger  anticipation  disgust   fear    joy   love  optimism  pessimism  \\\n",
      "0  False         False    False  False   True  False     False      False   \n",
      "1  False         False    False   True  False  False     False       True   \n",
      "2   True         False    False  False  False  False     False      False   \n",
      "3  False         False    False  False   True  False     False      False   \n",
      "4   True         False     True  False  False  False     False      False   \n",
      "\n",
      "   sadness  surprise  trust  \n",
      "0    False     False  False  \n",
      "1    False     False  False  \n",
      "2    False     False  False  \n",
      "3    False     False  False  \n",
      "4    False     False  False  \n",
      "Número de clases distintas : 11\n"
     ]
    }
   ],
   "source": [
    "print(y.info())\n",
    "print(y.head())\n",
    "print(f\"Número de clases distintas : {len(y.columns)}\")"
   ]
  },
  {
   "cell_type": "markdown",
   "metadata": {},
   "source": [
    "### Preprocesado de datos"
   ]
  },
  {
   "cell_type": "markdown",
   "metadata": {},
   "source": [
    "Ahora solo vamos a trabajar con el conjunto de entrenamiento ya que tenemos que masticar los datos y pasárselos al modelo que posteriormente entrenaremos\n",
    "\n",
    "Cargamos el modelo de lenguaje español que vamos a utilzar en nuestros datos"
   ]
  },
  {
   "cell_type": "code",
   "execution_count": 177,
   "metadata": {},
   "outputs": [],
   "source": [
    "nlp=spacy.load('Data/Model/es_core_news_sm-3.7.0-py3-none-any/es_core_news_sm/es_core_news_sm-3.7.0')"
   ]
  },
  {
   "cell_type": "markdown",
   "metadata": {},
   "source": [
    "##### Definición de las funciones de limpieza de texto"
   ]
  },
  {
   "cell_type": "code",
   "execution_count": 178,
   "metadata": {},
   "outputs": [
    {
     "name": "stderr",
     "output_type": "stream",
     "text": [
      "[nltk_data] Downloading package punkt to\n",
      "[nltk_data]     C:\\Users\\Alejandro\\AppData\\Roaming\\nltk_data...\n",
      "[nltk_data]   Package punkt is already up-to-date!\n",
      "[nltk_data] Downloading package stopwords to\n",
      "[nltk_data]     C:\\Users\\Alejandro\\AppData\\Roaming\\nltk_data...\n",
      "[nltk_data]   Package stopwords is already up-to-date!\n"
     ]
    }
   ],
   "source": [
    "# En esta celda vamos a definir las funciones para la limpieza del texto\n",
    "nltk.download('punkt')\n",
    "nltk.download('stopwords')\n",
    "def limpiar_texto(tweet):\n",
    "    # Elimina los acentos y convierte caracteres especiales\n",
    "    tweet = unidecode.unidecode(tweet)\n",
    "    # Elimina menciones y hashtags\n",
    "    tweet = re.sub(r'@[A-Za-z0-9_]+', '', tweet)\n",
    "    tweet = re.sub(r'#', '', tweet)\n",
    "    # Tokeniza el tweet\n",
    "    tokens = word_tokenize(tweet, language='spanish')\n",
    "    # Elimina stop words y palabras de 1 letra, y realiza stemming\n",
    "    stop_words = set(stopwords.words('spanish'))\n",
    "    stemmer = SnowballStemmer('spanish')\n",
    "    tokens = [stemmer.stem(word) for word in tokens if word.lower() not in stop_words and len(word) > 1]\n",
    "    return \" \".join(tokens)"
   ]
  },
  {
   "cell_type": "markdown",
   "metadata": {},
   "source": [
    "##### Limpiamos los tweets"
   ]
  },
  {
   "cell_type": "code",
   "execution_count": 179,
   "metadata": {},
   "outputs": [],
   "source": [
    "X_limpio = []\n",
    "for tweet in X: \n",
    "    tweet_limpio = limpiar_texto(tweet)\n",
    "    X_limpio.append(tweet_limpio)"
   ]
  },
  {
   "cell_type": "code",
   "execution_count": 180,
   "metadata": {},
   "outputs": [
    {
     "data": {
      "text/plain": [
       "array([\"ajajja clan twitter perd pa event `` import ''\",\n",
       "       'mal suert gat ficham car help pls',\n",
       "       'tampoc agrad especial trat justif', ...,\n",
       "       'prim anos enfad conmig explic azul sol chic ros chic ensen',\n",
       "       'jajaj ... see', 'quier abraz quier quer hac falt carin gent'],\n",
       "      dtype='<U106')"
      ]
     },
     "execution_count": 180,
     "metadata": {},
     "output_type": "execute_result"
    }
   ],
   "source": [
    "X_limpio = np.array(X_limpio)\n",
    "X_limpio"
   ]
  },
  {
   "cell_type": "markdown",
   "metadata": {},
   "source": [
    "También tenemos que limpiar el conjunto que vamos a usar para el testing"
   ]
  },
  {
   "cell_type": "code",
   "execution_count": 181,
   "metadata": {},
   "outputs": [],
   "source": [
    "test_limpio = []\n",
    "for tweet in test_data:\n",
    "    tweet_limpio = limpiar_texto(tweet)\n",
    "    test_limpio.append(tweet_limpio)\n",
    "    "
   ]
  },
  {
   "cell_type": "code",
   "execution_count": 182,
   "metadata": {},
   "outputs": [
    {
     "data": {
      "text/plain": [
       "array(['sig amig quier ten pued quej ... graci feliz dia',\n",
       "       'baby vec hag enoj sol quier sex reconcili', 'callat sig ofend',\n",
       "       'va ten ped perdon celebr dia cataluny ir bander ser anti espanol clar si ironi',\n",
       "       'doming 23:36 quier escuch music cant pulmon quier despert dem',\n",
       "       'vas andar juan salon',\n",
       "       'pon mal lech mord lengu habl bien insult llam cad cos sobreesfuerz hag',\n",
       "       'constituyent madur remedi mas peligr enfermed sufr amad venezuel 16j vot si si si',\n",
       "       'resac mand gallard hacet culi amarg',\n",
       "       'desafiosuperhuman aqui pens ser pestan valentin vay manan sust',\n",
       "       'ando busc gan estudi',\n",
       "       'mejor smerald scori mas wn apreci bro agrad conocert caes bn',\n",
       "       'capaz incomod aca', 'recomiend peli', 'llor mas diez vec amorrr',\n",
       "       'pele parej aca', 'tras maton ladron buen asi dic dich',\n",
       "       'nunc pierd bonit costumbr enamor algui inmediat verm famili futur chingon',\n",
       "       'hij yeceni', 'harry emocion gir mundial deprim vuelt entrad',\n",
       "       'puch sirv carr rondizzoni .... ironi jajajjajaj unanom',\n",
       "       'pues chaval madr reaccion haci idiot enfad encar dic siguient',\n",
       "       'victim dl terror argentin ddhh terror cenotafi figur mur memori cdo tendr justici',\n",
       "       'si temblor andan', 'razon depresion delic pas fatal',\n",
       "       \"`` alarm establec dentr hs 11 min '' llor\",\n",
       "       'sivpas lad telsalud tom enoj amor quier salud gos oj',\n",
       "       'sab dolor tristez si pas llor capitul gle',\n",
       "       'necesit compart algui alegri da ver puert guid kaczk',\n",
       "       'noch ricoter vag pus caraj enoj', 'asi mas sospech',\n",
       "       'ctm hac reir', 'jajajajajajaj seri alacr',\n",
       "       'son sal pib jam vi vid', 'car raj cobard siqu contest',\n",
       "       'llam novi dormi sol cag ris dos hs', 'hast muertit',\n",
       "       'phin pong asi otesaldrapele',\n",
       "       \"mujer borrach acos vist nadi indign mod 'va provoc\",\n",
       "       'tremend vient afueraa', 'trist pq dij bien enfad jajajaj',\n",
       "       'si orto si voy compart aca cans reprim tod mierd habl nadi',\n",
       "       'enoj pq duel ovari grit viej pq mierd pit jajaj',\n",
       "       'reci lleg ahor nuev sal busc sobris larg',\n",
       "       'sol mied cos sentim quer rod mied',\n",
       "       'emocion hermos music pud conect tod person si senor si pas acab',\n",
       "       'aleksy -se mull siempr -justin siempr -ex novi dos dias -indign sal grup -la mas put -a vec mamon amo',\n",
       "       'jueg contig ment ser astut cobard',\n",
       "       \"`` olvid mas despaci ofens mas rap favor '' martin luth king buen dias feliz miercol\",\n",
       "       'falt seman preocup maldit matricul',\n",
       "       'apag far ahor oscur veo ningun segu mejor qued aqui oscur esperart',\n",
       "       'volv empez', 'dos entregart corazon cre men',\n",
       "       'gan junior perdi amer', 'ira final',\n",
       "       \"mas da tristez `` aparent suicidi '' nunc sab person sufr nunc imagin ripchesterbennigton\",\n",
       "       'tan content goddddddd voy pa greci',\n",
       "       'moment hic asi ajjjajjajaja', 'feo perd person cercan',\n",
       "       'rayit pon sup nervios jajaj quier pas seman',\n",
       "       'estari genial lad fabric llevari', 'apocalipsis tt', 'pas',\n",
       "       'fav mand priv', 'considerat afortun mio ignor',\n",
       "       'auch -relam labi mism tiemp dej sal sonrisa- mmh traj mascot -sonrie-',\n",
       "       'lament cabez term entiend', 'terribl inacept',\n",
       "       'vin ver si habi muert apocalipsis aun sig leyend tuits bien ching',\n",
       "       'bronc pong part hor novel',\n",
       "       'queri cre todavi cuest entend depresion dificil super si trat tiemp',\n",
       "       'realid si interes trabaj street machin rop bonit hic descuent',\n",
       "       'sient alivi escrib',\n",
       "       'expresion da entend algocontrari diferent dic general burl disimul ironi',\n",
       "       'indign pelicul',\n",
       "       'estari entreten cans mas cans .. confirm jajaajj',\n",
       "       \"aun exist gent `` amenaz '' dar unfollow\",\n",
       "       'quier lleg manan manan jueg darl fuerz tod descans casit mas',\n",
       "       'topm hym terribl barat mas fech cach',\n",
       "       'sid seman mas dificil habl mejor amig',\n",
       "       'envi mensaj amig tan olvid', 'algui comi llev hormig', 'dios',\n",
       "       'cam help esper salv si va mat', 'mas ansied person',\n",
       "       'ahor eta exist atrev insult calient gent hart',\n",
       "       'viend vide conciert que tip teni tremend presenci neces much cos',\n",
       "       'ahor aburr music', 'felic vid depend calid pensamient',\n",
       "       'ctm .... estan pas avion cerc ... helicopter ..... asust necesit abach',\n",
       "       'vist vide ve chic grab chirri indign ris',\n",
       "       'flot pa pued flot gordit', 'amor cel berrinch discusion aburr',\n",
       "       'perdon enoj', 'aburr', 'si compar ruptur parej complej depresion',\n",
       "       '-peligr volant -tec -los sant -mem -gallet -3c',\n",
       "       'lament irme cans grit toxic mentir ego si si extranar si amo amo mas',\n",
       "       'hoy pas cos tan import pued cont twitt dar habl feliz',\n",
       "       'lament confusion ram legisl cuent public corregi esper hab satisfech reclam',\n",
       "       'perdon mied jajajaj', 'si contig delit hag cien anos prision',\n",
       "       'feliz cumpl',\n",
       "       'dig deberi organiz fiest sorpres sab 22 juli tantim coff coff',\n",
       "       'seri pued cre .. shock',\n",
       "       'tant cambi vid pregunt si quier casi siempr impon dos opcion qued acept segu llor',\n",
       "       'mf chau re enoj',\n",
       "       'pued sac americ horror story netflix llam abig',\n",
       "       'gabriel bol ato pavor', 'luis vam ir infiern ser asi',\n",
       "       'hac enoj deberi cag pin', 'lpm tan emocion',\n",
       "       'person pued dar maner padr vean reclam sol quier bienest',\n",
       "       'sobrev pur ansied nud gargant',\n",
       "       'necesit abraz algui nud gargant tremend',\n",
       "       'pizz quit enoj comprend sent',\n",
       "       'decolombiamegust orgull ser colombi hijumadr',\n",
       "       'insult ser vos franc muri sol sabeis dec fascist ser seri comun',\n",
       "       'val pen mech algun seri buen verl cen',\n",
       "       'men mal reydebast dich tranquil pens noch dormi escuch ... ironi',\n",
       "       'gustari ser polit suficient verguenz ajen provoc part',\n",
       "       'quedat dur enoj berrinch hac reir', 'mujer nombr perr hac honor',\n",
       "       'trafic pedis via dan lueg dio via pid via adel quier algui mas hag hac ironi',\n",
       "       'rabi tercer person relacion', 'sac mal ortografi pobr',\n",
       "       'lament andres uzcategui muri explot morter pechohttp //www.lechuguinos.com/andres-uzcategui-murio-mortero/',\n",
       "       'reci levant enfad bien buen dias', 'acab ver okja si trist',\n",
       "       'cont hoy genial nutricion men gras corporal subi 1.8kg muscul edad metabol 19',\n",
       "       'quier pele conor mcgregor floyd mayweath mcgregorvsmayweath',\n",
       "       'encim hac rat quier hac re content', 'alegr noch gil',\n",
       "       'carin si quis caid chantaj piojit', 'insol vali pen cad segund',\n",
       "       'much cos met dia cien bolsill motiv super felic',\n",
       "       'siempr dios primer vid ira bien', 'pies estan sup fri',\n",
       "       'despiert ahog pesadill buen', 'falt nunc amig ale',\n",
       "       'oye carnal gust pinch viej volvi pinch sangron',\n",
       "       'jajajajjaaaa crei pirat culiac jajajjaj',\n",
       "       'nunc vas dej pon nervios',\n",
       "       'jajdlzoxksnxj emocion merec chic quier', 'depresion cabron',\n",
       "       \"`` hey gust quier sal tal '' mas dad ris tiemp\",\n",
       "       'normal hag rechin dient enoj dia va sal',\n",
       "       'afortun coj tan buen viej', 'lament asi much gent',\n",
       "       'trist pon alarm ver hor qued dorm', 'berrinch mes',\n",
       "       'frank enoj bolud quier pid perdon car yend hac ded mejor voy corr esperam',\n",
       "       'desconfi demasi diri',\n",
       "       'clar colabor .... part regim xd dio arritmi disgust',\n",
       "       'sup deprim sab iba pas comic acompan mas fracas',\n",
       "       'gracios gent trat basur hoy salud dia amig',\n",
       "       'escuel hic profesor hic dram encerr recre habl dios',\n",
       "       'incomod sient vec', 'novolveria bloqueart das igual',\n",
       "       'tip dobl raser cre abander justici permit sonri',\n",
       "       'perfect ... mans terribl plr',\n",
       "       'pes simpl suen nunc prob recuerd com aparient',\n",
       "       'pasit pasit suav suavecit vam peg poquit poquit provoc grit olvid apell .. despacitoo',\n",
       "       'cabal ahi van bol crud', 'sient fracas divert hac encuest',\n",
       "       'horribl sensacion realment duel molest ten qued ahi sonr fing bien',\n",
       "       'grip dos dias mam dic sol llant conten cre',\n",
       "       'ooooooooo agrad sujet', 'da mied oscur',\n",
       "       'javierit ... amo ta amarg jev par ...',\n",
       "       'dav bowi deci religion gent mied irse infiern espiritual aquell alli',\n",
       "       'mir tiembl', 'ansied impid continu leyend odi sensacion',\n",
       "       \"ahor ser gay deb ser `` mayor edad '' ironi calmapuebl\",\n",
       "       'cualqu cansari habl conmig habl person mas aburr mas sencill mund',\n",
       "       'aburr ... cad fav/mg dat',\n",
       "       'goz alegri jesus amor vid laadoracionadiosengrandecelan',\n",
       "       'ofend inferior ofend', 'va tard contest',\n",
       "       'person sol conoci pued lleg dar algui dej ex gracs desconfi',\n",
       "       'unic razon gust insult sol provoc', 'exact qued clar mierd ahor',\n",
       "       'mam gaby mand mensaj dic dej tom', 'pupus albahac pin vas met',\n",
       "       'habl depresion suficient ver cuent planteamient ari veng voy grab',\n",
       "       'si sinti bastant fuert guaren temblor',\n",
       "       \"clar estan mas acuerd ladron beb plan `` acus prueb '' `` don dolor baez result ofend ''\",\n",
       "       'buen insult desnutr mental', 'agarr suen mied',\n",
       "       'mas intent son contig pued mas embarg mensaj bast provoc buen suen',\n",
       "       'sarcasm bajit', 'horribl gent quier dej son',\n",
       "       'sient pas acerc senor tiemp llant tambi regocij cubrem justici crist ven senor jesus',\n",
       "       'sonri aunqu sonris trist masztr sonris trist tristez pod so reir',\n",
       "       'usted sab terror si hij encarg niet irse fiest',\n",
       "       'peor andar gent mas mal educ', 'pele juan', 'feo ciel',\n",
       "       'seri increibl quier vert',\n",
       "       'clamor pon diabl tembl alab confund laadoracionadiosengrandecelan',\n",
       "       'nunc salud', 'necesit abraz sincer',\n",
       "       'herman mayor pens llev extranjer ano vien si llor reir',\n",
       "       'noch perfect teni pas',\n",
       "       'part sient van ser terror tap oid cierr ojos cuant anos cinc',\n",
       "       'contestam da ansied lpm', 'reunion familiar sorpres medi miercol',\n",
       "       'so re gracios bro actual socio',\n",
       "       'cag tir algui si tir algun person dej echo colador',\n",
       "       'jod manan dia escuel levant tempran',\n",
       "       \"frasedeldi `` amor mayor neces ser human '' perl sabiduri amor motiv felic\",\n",
       "       'trist', 'entreten recom', 'ira ir qued qued',\n",
       "       '-derek frunci cen escuch pud evit solt pequen carcajada.- -y entonc moren baj',\n",
       "       'mied dari tranquil',\n",
       "       'sient much pen aquell person complet fans lp ... primer man muer person admir',\n",
       "       'con acab carrer aun sac libr fisic coch ahi sig decolor sol venganz',\n",
       "       'veam sust', 'satisfaccion deb cumpl', 'felizlun cos herm feliz',\n",
       "       'ey temblor fuert gust', 'jueg nostalgi',\n",
       "       'mat vid sab viv mex pued mor caus terremot conocert',\n",
       "       'kajajajaj super pued ser tan pelotud',\n",
       "       'voy entrar instagram manan depresion loc quier ahi amig',\n",
       "       'mand mierd insult buen maner ayud ciert gent encontr camin',\n",
       "       'pues veo sent orgull nin des ahi adem morat tambi chic dese',\n",
       "       'gust ..', 'rayit das sorpres ser pap',\n",
       "       'cad vez enoj borr promet net hac',\n",
       "       'logr ver dij amig da alegri sab pued logr mas merec com',\n",
       "       'acuerd contig val pen coment yuraszeck',\n",
       "       'dio sust vid tal vez pens iba dec mir ventan',\n",
       "       'acab abrir snap fot guard find quier morirrr jajaj keee',\n",
       "       'hic herman fan pll', '10 enter par sos peligr',\n",
       "       'men mal nunc dio verguenz llor bondi', 'resent',\n",
       "       'deberi hab raj com siqu lleg desesper com', 'si dormis sorpres',\n",
       "       'vien hna amig qued dorm aca hel music depr llor van pens loc buen',\n",
       "       'preocup pens pap habi lleg llam dec vuel todavi habi sal',\n",
       "       'despu tres mes agu lleg feliz graci intergalact usted lleg tuberi existi nmj',\n",
       "       'estil dinamarc sur jaj ironi', 'tit hac llor ris',\n",
       "       'procur nunc sal cas enoj aquell amas vid pued cambi segund tal vez nunc desp',\n",
       "       'tan cans',\n",
       "       'salg algun xbox enfurec sony xbox nintender jod porq hac mejor',\n",
       "       'llev mas bes friolent travies amarg dulzooon',\n",
       "       'si men buen gust 2d perdonari', 'ahor si buen noch alegri',\n",
       "       'estar com', 'manan arrib', 'ahi vas pod ahor', 'enoj enoj enceri',\n",
       "       'vio feo andas igual vos ten corazon ciert',\n",
       "       'habi pel andre dic tom fernet pas enoj jeje amordeherman',\n",
       "       \"acab encontr cov 4o'clock espanol tan hermos llor\",\n",
       "       'gracios ver gent nunc conform amor brind siempr quier mas mas mas loc ten algui',\n",
       "       'apoder pior', 'son contig mas sonris sac',\n",
       "       'bis furi jajaj lastim ahor jueg armas t_t', 'felicit keik',\n",
       "       'feliz lunesdeamorazul compani midjfavorit besit abraz rein porfis tem marc antoni solis',\n",
       "       'dig feliz dia amig herman bro bro bro',\n",
       "       'dios plan original si igual mios enoj', 'oso lleg manan hac',\n",
       "       'delat solit ... tranquil riend hac llor pag ... ahi vam',\n",
       "       'suav cort alcanz promet',\n",
       "       'vam ver sucedi barri 90 veronicalapelicul vallek',\n",
       "       'habr dej friki resent',\n",
       "       'hoy parti cabez lastim cicatriz casi muer llor',\n",
       "       '7/20 1:34 am traidor ay amofeliz dia puti ano mas vos sos unic siend sos amo asi manan junt',\n",
       "       'brillant gran monolog',\n",
       "       'nostalgi unas hor lanzamient oficial secuel splatoon siempr recordar primer gust',\n",
       "       'festiv toc ir trabaj',\n",
       "       'rayit bien pin nervios falt monton mencion ganador',\n",
       "       'vas jun mar',\n",
       "       'encant conocert form enamor interior realment import',\n",
       "       'si molest adel seri', 'hermos sient genial',\n",
       "       'oigaa pued ver histori instagram si acept solicitud seguimient',\n",
       "       'si esper rencor alegri verm sufr ....',\n",
       "       'felizdiadelamig amor vid vez mas valios amig feliz dia corazon',\n",
       "       'pod sorprend sorprend fortun',\n",
       "       'den graci dios gan chavist distrit capital missearthvenezuel imagin nic caden sust',\n",
       "       'tiburon enchuf mas laboratori mejor contest val pen',\n",
       "       'si buen ide hab pas cuent spotify herman',\n",
       "       'cdmo preocup nac preocup mor feder garci lorc ..',\n",
       "       'pas vol estudiantin',\n",
       "       'mas asust histori manuel bartual comentari hac gent leedl favor ficcion',\n",
       "       'cag put', 'onda enoj',\n",
       "       'bp siempr llam atencion comentari sos tremend min encantari conocert sos hermos',\n",
       "       'si amig segui caprich imagin pas ahor proxim termin tintur',\n",
       "       'sorprend jajaj na vos sab super', 'si ir urban mied perd dignid',\n",
       "       'prepar venganz',\n",
       "       'lleg moment viv present rie bail enamorat cad minut viv viv felic',\n",
       "       'hoy comprob temor altur peor pens ...',\n",
       "       'okay habl seri 5am ..... tendr pon alarm t_t',\n",
       "       'gust aja mejor asi quier seri algui ..', 'emocion aaaaah',\n",
       "       'mierd abus sexual exces drog depresion llev quitart vid .. ojal ahor estes paz chesterbennington',\n",
       "       'bacanisim ten dia libr dia cumplean felic',\n",
       "       'nunc ame verd rabi da', 'jajajaj vacacion amarg',\n",
       "       'pus content leer jajajaj usted tambi banc grupit',\n",
       "       \"ironi ciudadan 32 anos prepar sism aprend hoy `` arte magi ''\",\n",
       "       'ambient perfect huesc ver peli terror torment ray terror ambiental uuuuuu sust',\n",
       "       'insult dm seri',\n",
       "       'mied primer vez pued hech segund panic segund vez pued hech primer',\n",
       "       'novi si dia amig ocup dorm pued cas pregunt capcios amig si',\n",
       "       'vam cort pel man', 'horrend division polit administr chilen',\n",
       "       'dichos aquel uso lastim ardid coment jajaj ok',\n",
       "       'desagrad negr bolit',\n",
       "       'tranc tod redom petar prend mech durisim hor .. petar arrech perdi mied',\n",
       "       'cre qued libr hac monton todavi qued trimestr',\n",
       "       'piens chorr amig chorr vas ten mied tal pal tal astill negr cabez',\n",
       "       'ser form bail regga lent maner men cuerp pon inquiet uooooooh',\n",
       "       'da tant pen nin senam tan vulner tan desproteg algui hag carg verd',\n",
       "       'amig tom fot hum color men io necesit vid',\n",
       "       'peli terror toy re cag', 'alegri multipl compart',\n",
       "       'hoy encontr libreri atend fantasm senor trist rar pens libr trist',\n",
       "       'recort patit trisquel venganz',\n",
       "       'toler par dam cachet fa feliz dia amig carin quier',\n",
       "       '-nieg cabez dej escap risit nerviosa.- mejor carin histori bastant retorc',\n",
       "       'list escuch respuest pregunt asust',\n",
       "       'ojal pud eleg famili lament ten aguant gent hipocrit sangr',\n",
       "       'emocion habl voy llor dig naci vam princes',\n",
       "       'dios aburr algui charl rat',\n",
       "       'meponebi content compr quis ... ador vest zapatill thanks ...',\n",
       "       'si prens opinion public toler indign ram irse igual vecin palmer indign',\n",
       "       'ira madree', 'intelect alma oscur peligr aterr',\n",
       "       'todavi sig rabios hab perd tant millon empres segur',\n",
       "       \"si van bard busqu `` insult '' put qued quem chup huev tambi bes\",\n",
       "       'trag mas amarg trag nud atad gargant',\n",
       "       'aburr gent quier qued bien com mund siempr',\n",
       "       \"mand mensaj lind sofi mand `` leer quier decirt pasart vide chistos ahor leo amo ''\",\n",
       "       'lptm loc jueg mas', 'cuant amor braz ..', 'manan festiv',\n",
       "       'wisharsrecomiend riquez cultural ofrec public libr revient cabez cienciaficcion terror fantasi',\n",
       "       'much graci',\n",
       "       'esten sobrin cas gener mal humor despiert dormi siest',\n",
       "       'sospech dir payas gust tom men cervez iuk prefier caf reunion voy',\n",
       "       'problem trabaj embarqu deten terror',\n",
       "       'loc proxim ser ... pued vot ironi menud retrogr',\n",
       "       '||mis companer clas escrach mio llor', 'dij qued re pensat',\n",
       "       'ahor palabr val ironi', 'jajajajajak pas cornet',\n",
       "       'desculp tant tristez', 'seri jajaj mism tren',\n",
       "       'pib mir fij hac hor bondi', '13 hor trabaj verg cansanci',\n",
       "       'harry dij genial agrad ver chic va bien carrer solitari',\n",
       "       'imaginat terror ser ciudadan britan quier absorb argentin sali ahi maravillaaaa',\n",
       "       'hol dej sol cas', 'amig dos doppelgang parec vivir',\n",
       "       'part corazon 10', 'da asco quier hac hippi tiemp tremend fantasm',\n",
       "       're not resent favor mamit superal jajaj',\n",
       "       'anoch estall ven furi milagr',\n",
       "       'acab dar cuent perdi tremend fot celul kill',\n",
       "       'bellest adelin martelli bosch todosmalandr mejor pas cuidat todoschorr clas',\n",
       "       'hac seman asad depresion',\n",
       "       'aburr gent quier qued bien mund siempr',\n",
       "       'neci punt da conoc ira mas hac cas injuri prudente.mision',\n",
       "       'mierd simon',\n",
       "       \"person misteri val dej comentari pidi fot .. supuest vide `` sorpres ''\",\n",
       "       'hug hefn invirti 1,000 prest volvi 20mill mensualescrack hug hefn lug ven ironi',\n",
       "       'admit cag mied', 'necesit masaj alma espald nuev siempr',\n",
       "       'ole verd ironi', 'suert empec tratamient increibl cambi may ahor',\n",
       "       'pag preci tenert dart amor ser feliz',\n",
       "       '-- quit diversion vid libr escrit jiwoo. --',\n",
       "       'fin seman descans total dorm 10 hor segu com ric heladit inclu 24 hrs viend the big bang theory feliz',\n",
       "       \"`` riquez mas grand hac mund pertenezc gent sient da felic ''\",\n",
       "       'acept sig indign', 'dios conmig net', 'enoj', 'sorpres',\n",
       "       'jajajajaj clav', 'hermanit extran',\n",
       "       'voy dorm ofend trist decepcion dia mierd',\n",
       "       'suel coincid pais mostr furi indign chapapot anos habi sid indiferent txapot',\n",
       "       'pued ser tan idiot pued burl asi tan grav xq mierd muer gent buen muer hdp alma',\n",
       "       'buen mentir pat cort caret caen sol buen ten conscienci limpi ...',\n",
       "       'much suert', 'desesper encontrart',\n",
       "       'va desaparec resent algui cos vay viv pais nos si mas lej tdvi',\n",
       "       'cag dorm enoj caraj',\n",
       "       'tan ansios hag mas comerfumarcomerfumarfumarcomerfumarcomercom',\n",
       "       'sonriz muec', 'mes cumplean octubr libr enamor feliz team',\n",
       "       'curiouscat version modern', 'top anos mas tard luc igual radiant',\n",
       "       'part corazon divid terribl sient tan santanderean rol',\n",
       "       'propi version optim si pued cruz puert cruzar har puert rabindranath tagor',\n",
       "       'solucion cos violenci gran ejempl socied enhorabuen ironi',\n",
       "       'pued hac gent sent odi resent corazon',\n",
       "       'seman intens squ battl dan trofe pon pas ultimat team ironi fifa18',\n",
       "       'much depresion corazon',\n",
       "       '1o juli empez cambi conmig pas 86 dias sig extranandot palabr llam inesper',\n",
       "       \"ollantahumal espinoz `` viaj hij eeuu constitu peligr fug aun depend padr ''\",\n",
       "       \"`` si enoj pequ enoj dur dia oportun diabl ''\", 'gracios',\n",
       "       'anon sos terribl cornud bla etc', 'cansanci val',\n",
       "       'despu cuant depresion lleg depresion adelgaz',\n",
       "       'ansied enfrent disen acept public objet ...',\n",
       "       'cuent denunci sol ocurr derech pod ... graci ironi',\n",
       "       'tan resent vas locaa', 'gran mierd borr tuits cobard',\n",
       "       'despert re tempran lpm novi encim deb quint suen',\n",
       "       'pes rev proyect ley abort deb unirn darl espald mujer nin chil',\n",
       "       '`` felic guard naftalin escond mal debaj cam ``',\n",
       "       'mejor tod feliz dia andre graci todoo',\n",
       "       'unic preocup wifi conect',\n",
       "       'tiemp pas inclus aunqu parezck impos inclus pes cad movimient manecill uel reloj duel',\n",
       "       'senor ... pong pie platic tan dinam divert versatil fresc flu ... 33 mins amen vid',\n",
       "       'pens mal gust hac cos noch mas horribl vid',\n",
       "       'curs estres sarcasm',\n",
       "       \"sobrin vio fot par vos dij `` mir tia ahi content ''\",\n",
       "       're bob hoy', 'noch ligue lectur tarot ensal vay entreten',\n",
       "       'cancion famili da tant nostalgi cumplean', 'queri',\n",
       "       'enoj espan depcecion cre peor', 'siempr mism pesadill aburr',\n",
       "       '// batm sup chistos confirm', 'uffff fuert',\n",
       "       'satisfaccion algui preocup vos nos encant',\n",
       "       \"jajajajajajajjaj andre viend `` laur '' aburr\",\n",
       "       'chav nadi lament',\n",
       "       'ram hic mas pes lagrim derram raic desgarr tierr ira biografi maokai',\n",
       "       \"y-pensarqu papito'teamoprohib olvidart viejit sient trist\",\n",
       "       \"`` si conoc enemig conoc mism correr peligr cad batall '' suntzu\",\n",
       "       'loc enoj conmig pq segun acab conoc habl si hac paral loc',\n",
       "       'mae enoj ten dorm enoj', 'seman colegi',\n",
       "       'senti nostalgi volv encontr convers',\n",
       "       'baj ex llor favor nadi pele pendej', 'si habl enoj',\n",
       "       'dios sust lpmmm',\n",
       "       'sol facebook leer comentari argument gent ofend bien gracios',\n",
       "       'jueg',\n",
       "       'sient indign ... posibl lenin moren llam ovejun vot creyend rc ....',\n",
       "       'fot aah ahi ignor escrib jug resent',\n",
       "       'sol dij feliz dia person jajj nos unic pens',\n",
       "       'pa enoj gent hac tragic numer butac ...', 'graci cnstituyent',\n",
       "       'guanlin quinc anos segund mas alto grup basquet va perfect asi segur jueg bien',\n",
       "       'perdi pele ano', \"meo `` araucani terror '' elinform\",\n",
       "       'perr perdi hoy', 'tal si mejor oyent', 'seman suficient',\n",
       "       'cae re bien tremend dios grup odi creopp igual mejor',\n",
       "       'noo we enoj asi normal',\n",
       "       'feliz dia amig graci aunqu mil cos pas habl mas sig siend especial+',\n",
       "       'echeniqu resent vid habl maner tan miser homenajeblancoep',\n",
       "       'hac infeliz naa post compart mg lik reblogg',\n",
       "       'cost rami malek indign lind', 'ptm lun', \"ide `` clar '' ironi\",\n",
       "       'fal', 'escribi pon ansios mio', 'com amig com compot cas ansios',\n",
       "       'queri irme', 'siempr jajajajaj sos mejor',\n",
       "       'fern anim fernanyanoescom',\n",
       "       'semafor malogr cumpl mejor funcion polici transit',\n",
       "       'elinform diganl me- hak hunt mat allend suic cobard respond pais ineptitud',\n",
       "       'rar desaparec comisari puebl nadi parec llamat hac intent busc sospech we ..',\n",
       "       'mas bellaquer men timidez',\n",
       "       'person generaliz tem sab bien argument estrambol van mas alla percepcion',\n",
       "       'felic fer pas agus darl lik fot car jajaaa',\n",
       "       'estari orgull amirsote',\n",
       "       'saqu caret ... econom asust gent vos sos hombr bols',\n",
       "       'demasi chistos lei abri twitt jajajajaj',\n",
       "       'empiez curs sup content', 'ansied desaprovech segund',\n",
       "       'jajajaj los wachit', 'pele sabl',\n",
       "       'ultim cuest diferenci miembr bts confund tae jungkook jin jimin put trist pas help',\n",
       "       'pen pinch canal',\n",
       "       'feo anden mat gent call ah puest peligr danli pued sal pie compr pulperi',\n",
       "       'ator escabi hd1000',\n",
       "       'peor form extran algui lad sab nunc podr ten tristez',\n",
       "       'si pued ir temor import', 'mand tard tweets',\n",
       "       'cre voy hac tatuaj men cinc', '5hestrending necesit verl favor',\n",
       "       'enferm enoj rian si vier car orto reiri',\n",
       "       'hari falt tall moment caraj ... novel mied temor bloque paralisismental noseacoyon',\n",
       "       'tan orgull voy dec feliz dia',\n",
       "       'magali taj podr quier met psicologi hac gracios vez vdd',\n",
       "       'feliz dia amig', 'agrad sujet icardi jajajaj',\n",
       "       'mejor hor hac tont jura llor ris', 'dari vert sonr',\n",
       "       'sabeis yoli 21 anos enter sol dich vez gala3gh ironi',\n",
       "       'jaj tan resent', 'kkkkk emocion car', \"'me encant buenooooo\",\n",
       "       'pabl perez',\n",
       "       \"sol aquel demasi fuert perdon ofens sab `` amar '' rt ff amor\",\n",
       "       'rayit cayend desesper',\n",
       "       'siempr quier escrib not utiliz twitt qued borrador',\n",
       "       'terribl gan vay bien', 'ansied mierd vo', 'aburr lind conect',\n",
       "       'punt limit pued lleg ex resent',\n",
       "       'ahor iguaz dig colombian sal ofend gran bien much gent sever plag',\n",
       "       'mund lug peligr', 'fide mas peligr', 'voy llor',\n",
       "       'ahor van fum porr dias ... coalicion jamaic ja ja', 'hac 3gs',\n",
       "       'cerr jet infeliz', 'desgraci infeliz jajaj', 'mms doli leerl',\n",
       "       'wey si habl messeng corr peligr contest 2018 vrd jajaj',\n",
       "       'ido don sangr clinic 900 her doming acab cant imagin piel gallin ironi',\n",
       "       'quier toc ciel rein rein enloquec vos ..',\n",
       "       'principi llam atencion lueg vi sonr aplic mil filtr instagram',\n",
       "       'vec pregunt si loc mierd pele mund person tan pelotud tan problemat',\n",
       "       'jajajajajaj podi resist seri', 'buen amig dejam tranquil cans',\n",
       "       'lind viaj mot viej', 'reloj marqu hor voy enloquec ...',\n",
       "       'mas probabl', 'tan enoj iba dio', 'si caf sup amargari',\n",
       "       'quier tom mam lleg botell tequil cas abuel felic',\n",
       "       'si escuch alarm voy', 'sient nervios',\n",
       "       'jajajaj chist buen sust jajaj', 'bloqu hij pu madr', 'sust',\n",
       "       'piens perd pele mcgregor myweath',\n",
       "       'stalkeart lei bio sient intimid',\n",
       "       'pele conoc sold sol voctori conoc caballer jacint benavfnt',\n",
       "       'capaz cualqui cos tal provoc sonris rostr amor',\n",
       "       'cre segu pod mandart dm',\n",
       "       'escuch hij sobrin envi audi necesitar pasiflor estan hac sonr lesninesrul',\n",
       "       'trist mio amig', 'lament asi acab chavism si puebl',\n",
       "       'cos rol pensamient desagrad hac rat termin sent desanim eme',\n",
       "       'falt pele confesion morb',\n",
       "       'habeis vist dia furi hoy pel sol motiv estarl igual edad',\n",
       "       'sarn ano pas dic feliz dia algui hoy salud recontramil cag cambi',\n",
       "       'buen noch tod pipuuuuul excelent seman', 'todavi duel ...',\n",
       "       'ojal grav', 'si decim bes pis',\n",
       "       'perdi remer pap perdi dos ojot herman acab perd buz bien',\n",
       "       'clarisim sal corr relat tem igual sal pat mir atras asco terror',\n",
       "       'ira bronc pajer ess was jesussss',\n",
       "       'sig pens suert vez paralisis suen durm conmig si mori sust sol',\n",
       "       'esdeput dec maricon homosexual p. d. twit hiz fin ofend comun gay',\n",
       "       'mastrofobi mied sen',\n",
       "       'bebit feliz cumplean esper disfrut dia mejor',\n",
       "       'salt cam present intent ten audienci',\n",
       "       'cas ser muj ... piens embaraz quis ten anemi cas',\n",
       "       \"dej sentimient conviert resent `` pas ''\", 'quier viernee',\n",
       "       '3:48 pod dorm',\n",
       "       'olvid ejercici actividadfis mejor anim estimul agil mental alivi depresion cuidatuv',\n",
       "       'hermos ver salv gatit patrici saenz 37',\n",
       "       'sensacion mas horribl incomod',\n",
       "       'ok pas twitt sal si sigu sol person ... asust',\n",
       "       'cristian madur plant palabr excus razon viv vid ofend pastor bri huston',\n",
       "       'import reverend con ver program inter social exclus person men dos ded frent',\n",
       "       'orden ide horribl ser miguel monter pas ser prospect numero1 yank lig mexican pincha',\n",
       "       'sid larg comparecent rey crisis sufr ... ironi 3oct',\n",
       "       'gracios situacion jajajajajj', 'gust',\n",
       "       'lament estanc precis vem problem raiz buen noch',\n",
       "       'ibas patin nunc conoci bien caes genial',\n",
       "       'salgam pesadill deb aprend ped llev riend pais mejor ari',\n",
       "       'felic mod on',\n",
       "       'hank pulp busc dory dio tentaculo/pen pulp abandon viv amarg resent',\n",
       "       'quis ten tod jerseys equip jugador favorit',\n",
       "       'robb banc mull titul iron', 'jajajajaj person men amarg',\n",
       "       'jajajajajajajajaj lpm qued horribl',\n",
       "       'libr hac circul amor alegri tod part mund amo vid', 'ofend sient',\n",
       "       'vist pesadill acab puebl pas encim mud mas mism regim',\n",
       "       'acus bastant grav ningun prueb', 'amo jod franc hac enoj',\n",
       "       're encant form boc demasi lindaaa',\n",
       "       'meti cam cen tan cans quier ver divert livian tont veo netflix',\n",
       "       'segur ano vien si acord', 'si habl duerm enoj eh aburr',\n",
       "       'sol bibliotec pobl sol trist amarg', 'doming herrrrmos',\n",
       "       'enoj si algui da buen noch ahr', 'pon nervios pech tan grand',\n",
       "       'acab met pat bien cabron hac intelectual sol demostr carenci emocional amarg put madr',\n",
       "       'jajajajajajajajajajajj muer', 'jajaj graci oscarin',\n",
       "       'maravill mund beb caf hirv hor',\n",
       "       'mas insult ... capaz habl insult',\n",
       "       'destac deathnot dos unic apunt ultim fras magnif bso incomprens cin',\n",
       "       'amar azul', 'si insult cun cojon hag entonc',\n",
       "       'moment sient cuerp hirv',\n",
       "       'quier ofend inmadur unfollow si indirect sient teni dec',\n",
       "       'tremend gan pon pil', 'busc bien sol quier diversion',\n",
       "       'cos demoni alarm',\n",
       "       'quier hac much intervencion instal espacio/diner',\n",
       "       'avec tant bronc sarnoz herman',\n",
       "       'nunc habl mal ex si infeliz dej tambi ..',\n",
       "       'adem andan leyend insult sint mal modohumor ironi',\n",
       "       'llev juventud disqu hombr vien buen',\n",
       "       'imaginat sol conozc escond ciel ras ahor incoherent ... 2-0',\n",
       "       'va ir',\n",
       "       \"sali camionet desayun mcdonald 's almorc chin wok tambi olvid pon red sarcasm\",\n",
       "       'haci tiemp sonrei celul mientr habl algui',\n",
       "       'veran voy ir aut camionet camin nunc mas', 'cans gent fals vid',\n",
       "       'hac verguenz terribl habit tan vaci',\n",
       "       'vec tan cans pued dorm ironi', 'bolivi segu pas alemani feliz',\n",
       "       'form tan cobard dec', 'jaj quedart dorm sust jaj',\n",
       "       'explicam entend 11 rt ...',\n",
       "       'xd parec pued tom captur ... pen suert mia xd ...',\n",
       "       'llor enoj nen chiquit dej hac emperr',\n",
       "       'jajajajaj hac estres impuntual',\n",
       "       'fascin hac trabaj pertenec departament ironi',\n",
       "       'necesit proyect disen pag', 'bien pinch infeliz',\n",
       "       'miopi freg vid',\n",
       "       'encant cuent amo llev pj fot destac parec person agrad',\n",
       "       'suen dan mied', 'sid divert equivocari veeeeeezzzz', 'enter',\n",
       "       'manan', 'dej ser tan amarg faaaa',\n",
       "       'pas algun vez vi puert piez pas algui pasill mir nadi rar tepas espant',\n",
       "       'humild intimid bailadisim ardidaaaa jajajaj',\n",
       "       'cre seman mas aburr vid tendri hab qued trenqu lcdlg',\n",
       "       'tannnn sentimental tannn odios tannn amarg vec piens dab teter sin acid sulfur',\n",
       "       'normal chup huev hoy preocup', 'voi pon alarm 7:45',\n",
       "       'esper den tod obra esper ansios tras bambalin nochedeteatr icerd',\n",
       "       'bateri alv pud wattp rabi', 'mer dal aburr', 'cuent insult cen',\n",
       "       'viv tiemp exhibicion tremend pao intrig respuest',\n",
       "       'val .... depresion padr quier llev rat departament abuel 9:48pm encim oblig',\n",
       "       'pele interior si ir orin dorm pens ir orin jajaj maldit huev corro',\n",
       "       'vam noch enloquec',\n",
       "       'inexplic sensacion nostalgi alegri dud ansied mied excesodeconfi nos',\n",
       "       'dos tip cel normal dig celos enoj voy',\n",
       "       'falt cap narc termin nunca agent pen voy amar vid',\n",
       "       'juajuajuajuajaujaujujajajuajau chistos', 'buen dias social',\n",
       "       '-- habi solt grun respuest siend call mism bes habi comenz',\n",
       "       'baris va ser gran personaj ahor sarp soempr preocup padr icerdexmeg nochedeteatr',\n",
       "       'see much viaj estadot rentabl si divert',\n",
       "       'sal cin llov agradec valet cerr vidri evit tragedi',\n",
       "       'sol perr birr felic',\n",
       "       'tiemp esper capitul final pll mierd indign odi',\n",
       "       'si algui vien visit enoj',\n",
       "       'jajajaaj habi pens nunc asi ahor indign', 'vay olvid fij',\n",
       "       'insomni divert vec'], dtype='<U106')"
      ]
     },
     "execution_count": 182,
     "metadata": {},
     "output_type": "execute_result"
    }
   ],
   "source": [
    "test_limpio = np.array(test_limpio)\n",
    "test_limpio"
   ]
  },
  {
   "cell_type": "markdown",
   "metadata": {},
   "source": [
    "##### Split datos entrenamiento y evaluación"
   ]
  },
  {
   "cell_type": "markdown",
   "metadata": {},
   "source": [
    "Para evitar evitar el overfitting en algunos modelos, en aquellos en los que podamos usar una validación para que el entrenamiento funcione correctamente vamos a separar un 20% del conjunto de entrenamiento como evaluación.\n",
    "\n",
    "En aquellos métodos que no necesiten evaluación usaremos directamente el conjunto de entrenamiento inicial (X_limpio, y)"
   ]
  },
  {
   "cell_type": "code",
   "execution_count": 183,
   "metadata": {},
   "outputs": [
    {
     "data": {
      "text/plain": [
       "((2848,), (713,), (2848, 11), (713, 11))"
      ]
     },
     "execution_count": 183,
     "metadata": {},
     "output_type": "execute_result"
    }
   ],
   "source": [
    "X_train, X_val, y_train, y_val = train_test_split(X_limpio, y, test_size=0.2, random_state=42)\n",
    "X_train.shape, X_val.shape, y_train.shape, y_val.shape"
   ]
  },
  {
   "cell_type": "markdown",
   "metadata": {},
   "source": [
    "##### Representación vectorial ( TF-IDF )"
   ]
  },
  {
   "cell_type": "code",
   "execution_count": 184,
   "metadata": {},
   "outputs": [],
   "source": [
    "# Creamos la representación vectorial de nuestros datos por el método TF-IDF\n",
    "vectorizer = TfidfVectorizer()\n",
    "X_train = vectorizer.fit_transform(X_train)     # Vectorizamos el conjunto de entrenamiento\n",
    "X_val = vectorizer.transform(X_val)             # Vectorizamos el conjunto de evaluación\n",
    "X_test = vectorizer.transform(test_limpio)      # Vectorizamos el conjunto de testing\n",
    "# Transformamos nuestros labels a 1-D para los modelos\n",
    "y_train = y_train.idxmax(axis=1)\n",
    "y_val = y_val.idxmax(axis=1)"
   ]
  },
  {
   "cell_type": "code",
   "execution_count": 185,
   "metadata": {},
   "outputs": [
    {
     "data": {
      "text/plain": [
       "'Train:(2848, 4978),(2848,); Val:(713, 4978),(713,); Test:(679, 4978)'"
      ]
     },
     "execution_count": 185,
     "metadata": {},
     "output_type": "execute_result"
    }
   ],
   "source": [
    "f'Train:{X_train.shape},{y_train.shape}; Val:{X_val.shape},{y_val.shape}; Test:{X_test.shape}'"
   ]
  },
  {
   "cell_type": "markdown",
   "metadata": {},
   "source": [
    "Una vez creada la BoW, en nuestro caso por el método TF-IDF tenemos que crear el modelo que usaremos para la predicció y entrenarlo con nuestros datos de entrenamiento. "
   ]
  },
  {
   "cell_type": "markdown",
   "metadata": {},
   "source": [
    "## Modelos"
   ]
  },
  {
   "cell_type": "markdown",
   "metadata": {},
   "source": [
    "En nuestro caso vamos a realizar un pequeño estudio sobre 3 modelos para saber cuál es mejor para nuestro Dataset y luego decidiremos el mejor y lo usaremos para  la predicción. \n",
    "Los modelos a tratar va a ser:\n",
    "- *Multinomial Naive Bayes*\n",
    "- *SVM*\n",
    "- *Transformer* --> *BERT*"
   ]
  },
  {
   "cell_type": "markdown",
   "metadata": {},
   "source": [
    "### Naive Bayes"
   ]
  },
  {
   "cell_type": "markdown",
   "metadata": {},
   "source": [
    "En nuestro caso vamos a utiliza el *Multinomial Naive Bayes* ya que tenemos que distinguir entre 11 clases distintas.\n",
    "\n",
    "El *Multinominal Naive Bayes* es un algoritmo de clasificación basado en la teoría de probabilidad, funciona basándose en 2 aspectos fundamentales:\n",
    "- *Naive Bayes*: Se basa en el teorema de Bayes, que calcula la probabilidad de una clase dada una o varias características.\n",
    "- *Modelo Multinominal*: En este contexto, se asume que los datos siguen una distribución multinominal. Esto significa que se modela la probabilidad de ocurrencia de una palabra en un documento perteneciente a una clase específica.\n",
    "\n",
    "Vamos a probar con este modelo ya que es eficiente y rápido tanto en entrenamiento como en clasificación. Lo vamos a usar como una base para nuestro estudio en el dataset de las emociones. Este algoritmo también funciona bien con datos de tipo texto, en especial este brilla cuando los presentamos como vectores BoW.\n",
    "\n",
    "Este algoritmo, al igual que todos, tiene una serie de limitaciones que probablemente no lo haga el más óptimo. Tenemos una suposición de independecia condicional que puede que no sea la más realista en la mayor parte de los casos aunque el modelo aún así puede llegar a ofrecer buenos resultados. A este algoritmo si no le pasas los datos normalizados y preprocesados correctamente puede afectar significativamente a su resultado."
   ]
  },
  {
   "cell_type": "code",
   "execution_count": 200,
   "metadata": {},
   "outputs": [
    {
     "name": "stdout",
     "output_type": "stream",
     "text": [
      "              precision    recall  f1-score   support\n",
      "\n",
      "       anger       0.43      0.94      0.59       263\n",
      "anticipation       0.00      0.00      0.00        79\n",
      "     disgust       0.00      0.00      0.00        27\n",
      "        fear       0.00      0.00      0.00        49\n",
      "         joy       0.58      0.46      0.51       166\n",
      "        love       0.00      0.00      0.00        15\n",
      "    optimism       0.00      0.00      0.00        16\n",
      "   pessimism       0.00      0.00      0.00        45\n",
      "     sadness       1.00      0.02      0.05        42\n",
      "    surprise       0.00      0.00      0.00         9\n",
      "       trust       0.00      0.00      0.00         2\n",
      "\n",
      "    accuracy                           0.45       713\n",
      "   macro avg       0.18      0.13      0.10       713\n",
      "weighted avg       0.35      0.45      0.34       713\n",
      "\n"
     ]
    },
    {
     "name": "stderr",
     "output_type": "stream",
     "text": [
      "x:\\Repos\\PLN-FinalPr\\.venv\\lib\\site-packages\\sklearn\\metrics\\_classification.py:1509: UndefinedMetricWarning: Precision is ill-defined and being set to 0.0 in labels with no predicted samples. Use `zero_division` parameter to control this behavior.\n",
      "  _warn_prf(average, modifier, f\"{metric.capitalize()} is\", len(result))\n",
      "x:\\Repos\\PLN-FinalPr\\.venv\\lib\\site-packages\\sklearn\\metrics\\_classification.py:1509: UndefinedMetricWarning: Precision is ill-defined and being set to 0.0 in labels with no predicted samples. Use `zero_division` parameter to control this behavior.\n",
      "  _warn_prf(average, modifier, f\"{metric.capitalize()} is\", len(result))\n",
      "x:\\Repos\\PLN-FinalPr\\.venv\\lib\\site-packages\\sklearn\\metrics\\_classification.py:1509: UndefinedMetricWarning: Precision is ill-defined and being set to 0.0 in labels with no predicted samples. Use `zero_division` parameter to control this behavior.\n",
      "  _warn_prf(average, modifier, f\"{metric.capitalize()} is\", len(result))\n"
     ]
    }
   ],
   "source": [
    "# Creamos el modelo Naive Bayes\n",
    "nbModelo = MultinomialNB()\n",
    "ajusteNB = nbModelo.fit(X_train, y_train)           # Entrenamos el modelo\n",
    "nBScore = nbModelo.score(X_val, y_val)              # Sacamos la precisión del modelo\n",
    "print(classification_report(y_val, ajusteNB.predict(X_val)))"
   ]
  },
  {
   "cell_type": "markdown",
   "metadata": {},
   "source": [
    "#### RESULTADOS"
   ]
  },
  {
   "cell_type": "markdown",
   "metadata": {},
   "source": [
    "Como podemos observar en el *classification report* de arriba en el que tenemos las métricas:\n",
    "- **Precision**: Esta métrica nos muestra cuan fiable es nuestro modelo a la hora de detectar muestras.\n",
    "- **Recall**: Es el porcentaje de predicciones correctas de la clase, lo que nos indica si nuestro modelo está acertando las muestras que clasifica como de la clase o no.\n",
    "- **F1-Score**: Es la media armónica de la *precision* y el *recall*\n",
    "- **Support**: No es una métrica sino el número de muestras de cada clase. \n",
    "\n",
    "Una vez definidas podemos pasar al análisis de cada una, como bien podemos ver de un simple vistazo sobre la columna de *support* es que nuestro dataset es que no está para nada balanceado ya que cada clase tiene un número muy desigual a sus iguales de muestras, teniendo como más en *anger* y *joy*, el resto con menos de 80 muestras y como mínimo de 2 muestras en *trus*. Esto es un gran problema ya que el algoritmo no va a poder predecir correctamente aquellas clases con pocas muestras.\n",
    "\n",
    "En términos de recall y precision, podemos ver como mayoritariamente el modelo solo es capaz de predecir 'correctamente' la emoción *anger* y *joy*.\n",
    "\n",
    "Como conclusión podemos decir que este es un módelo para nada óptimo para este caso, por su desbalance de datos así como el preprocesamiento necesario para que pueda predecir correctamente."
   ]
  },
  {
   "cell_type": "markdown",
   "metadata": {},
   "source": [
    "### Máquina Vector Soporte (SVC)"
   ]
  },
  {
   "cell_type": "markdown",
   "metadata": {},
   "source": [
    "Las Máquinas de Vector Soporte son un algoritmo de aprendizaje utilizado principalmente para este tipo de problemas. La idea principal es encontrar el hiperplano que separa las clases de datos en un espacio de alta dimensionalidad.\n",
    "\n",
    "Este algoritmo es muy útil para problemas de clasificación y regresión, ya que es capaz de capturar las relaciones de dependencia entre los datos. Especialmente, pueden resultar herramientas muy importantes cuando se utilizan técnicas de preprocesamiento de texto como TF-IDF."
   ]
  },
  {
   "cell_type": "code",
   "execution_count": 205,
   "metadata": {},
   "outputs": [
    {
     "name": "stdout",
     "output_type": "stream",
     "text": [
      "SVM -->\t\tClassification Report:\n",
      "              precision    recall  f1-score   support\n",
      "\n",
      "       anger       0.52      0.84      0.64       263\n",
      "anticipation       0.43      0.11      0.18        79\n",
      "     disgust       0.00      0.00      0.00        27\n",
      "        fear       0.76      0.45      0.56        49\n",
      "         joy       0.56      0.66      0.61       166\n",
      "        love       0.00      0.00      0.00        15\n",
      "    optimism       0.00      0.00      0.00        16\n",
      "   pessimism       0.38      0.07      0.11        45\n",
      "     sadness       0.63      0.45      0.53        42\n",
      "    surprise       0.00      0.00      0.00         9\n",
      "       trust       0.00      0.00      0.00         2\n",
      "\n",
      "    accuracy                           0.54       713\n",
      "   macro avg       0.30      0.23      0.24       713\n",
      "weighted avg       0.48      0.54      0.47       713\n",
      "\n"
     ]
    },
    {
     "name": "stderr",
     "output_type": "stream",
     "text": [
      "x:\\Repos\\PLN-FinalPr\\.venv\\lib\\site-packages\\sklearn\\metrics\\_classification.py:1509: UndefinedMetricWarning: Precision is ill-defined and being set to 0.0 in labels with no predicted samples. Use `zero_division` parameter to control this behavior.\n",
      "  _warn_prf(average, modifier, f\"{metric.capitalize()} is\", len(result))\n",
      "x:\\Repos\\PLN-FinalPr\\.venv\\lib\\site-packages\\sklearn\\metrics\\_classification.py:1509: UndefinedMetricWarning: Precision is ill-defined and being set to 0.0 in labels with no predicted samples. Use `zero_division` parameter to control this behavior.\n",
      "  _warn_prf(average, modifier, f\"{metric.capitalize()} is\", len(result))\n",
      "x:\\Repos\\PLN-FinalPr\\.venv\\lib\\site-packages\\sklearn\\metrics\\_classification.py:1509: UndefinedMetricWarning: Precision is ill-defined and being set to 0.0 in labels with no predicted samples. Use `zero_division` parameter to control this behavior.\n",
      "  _warn_prf(average, modifier, f\"{metric.capitalize()} is\", len(result))\n"
     ]
    }
   ],
   "source": [
    "# Creamos el modelo y lo aplicamos a nuestros datos\n",
    "modeloSVC = SVC(kernel='linear')\n",
    "modeloSVC.fit(X_train, y_train)\n",
    "y_predicciones = modeloSVC.predict(X_val) # Predecimos el conjunto de testeo del validación para ver como se está comportando el model\n",
    "print(f'SVM -->\\t\\tClassification Report:\\n{classification_report(y_val, y_predicciones)}')"
   ]
  },
  {
   "cell_type": "markdown",
   "metadata": {},
   "source": [
    "#### CONCLUSIONES"
   ]
  },
  {
   "cell_type": "markdown",
   "metadata": {},
   "source": [
    "Este método de clasificación, a simple vista, comparándolo con el NaiveBayes es mucho mejor ya que consigue clasificar más clases y con valores más altos pero no es un modelo que podemos presentar como definitivo por varias razoes:\n",
    "- (I) Aún tenemos clases que no es capaz de encontrar\n",
    "- (II) Deberíamos tener todas las *f1-scores* o los *recall* por encima del 0.85 para plantearnos presentar un algoritmo decente para la clasificación de estos tweets\n",
    "- (III) Tiene una *accuracy media* de 0.54 lo que nos indica que el funcionamiento de este modelo, pese a ser mejor que el anterior sigue siendo muy malo\n",
    "\n",
    "Por si acaso vamos a realizar un estudio sobre los hiperparámetros de este modelo, vamos a estudiar:\n",
    "- (I) **kernel**"
   ]
  },
  {
   "cell_type": "code",
   "execution_count": 207,
   "metadata": {},
   "outputs": [
    {
     "name": "stderr",
     "output_type": "stream",
     "text": [
      "x:\\Repos\\PLN-FinalPr\\.venv\\lib\\site-packages\\sklearn\\metrics\\_classification.py:1509: UndefinedMetricWarning: Precision is ill-defined and being set to 0.0 in labels with no predicted samples. Use `zero_division` parameter to control this behavior.\n",
      "  _warn_prf(average, modifier, f\"{metric.capitalize()} is\", len(result))\n",
      "x:\\Repos\\PLN-FinalPr\\.venv\\lib\\site-packages\\sklearn\\metrics\\_classification.py:1509: UndefinedMetricWarning: Precision is ill-defined and being set to 0.0 in labels with no predicted samples. Use `zero_division` parameter to control this behavior.\n",
      "  _warn_prf(average, modifier, f\"{metric.capitalize()} is\", len(result))\n",
      "x:\\Repos\\PLN-FinalPr\\.venv\\lib\\site-packages\\sklearn\\metrics\\_classification.py:1509: UndefinedMetricWarning: Precision is ill-defined and being set to 0.0 in labels with no predicted samples. Use `zero_division` parameter to control this behavior.\n",
      "  _warn_prf(average, modifier, f\"{metric.capitalize()} is\", len(result))\n"
     ]
    },
    {
     "name": "stdout",
     "output_type": "stream",
     "text": [
      "\n",
      "---------------------------\n",
      "SVM --> KERNEL = linear:\n",
      "              precision    recall  f1-score   support\n",
      "\n",
      "       anger       0.52      0.84      0.64       263\n",
      "anticipation       0.43      0.11      0.18        79\n",
      "     disgust       0.00      0.00      0.00        27\n",
      "        fear       0.76      0.45      0.56        49\n",
      "         joy       0.56      0.66      0.61       166\n",
      "        love       0.00      0.00      0.00        15\n",
      "    optimism       0.00      0.00      0.00        16\n",
      "   pessimism       0.38      0.07      0.11        45\n",
      "     sadness       0.63      0.45      0.53        42\n",
      "    surprise       0.00      0.00      0.00         9\n",
      "       trust       0.00      0.00      0.00         2\n",
      "\n",
      "    accuracy                           0.54       713\n",
      "   macro avg       0.30      0.23      0.24       713\n",
      "weighted avg       0.48      0.54      0.47       713\n",
      "\n",
      "---------------------------\n"
     ]
    },
    {
     "name": "stderr",
     "output_type": "stream",
     "text": [
      "x:\\Repos\\PLN-FinalPr\\.venv\\lib\\site-packages\\sklearn\\metrics\\_classification.py:1509: UndefinedMetricWarning: Precision is ill-defined and being set to 0.0 in labels with no predicted samples. Use `zero_division` parameter to control this behavior.\n",
      "  _warn_prf(average, modifier, f\"{metric.capitalize()} is\", len(result))\n",
      "x:\\Repos\\PLN-FinalPr\\.venv\\lib\\site-packages\\sklearn\\metrics\\_classification.py:1509: UndefinedMetricWarning: Precision is ill-defined and being set to 0.0 in labels with no predicted samples. Use `zero_division` parameter to control this behavior.\n",
      "  _warn_prf(average, modifier, f\"{metric.capitalize()} is\", len(result))\n",
      "x:\\Repos\\PLN-FinalPr\\.venv\\lib\\site-packages\\sklearn\\metrics\\_classification.py:1509: UndefinedMetricWarning: Precision is ill-defined and being set to 0.0 in labels with no predicted samples. Use `zero_division` parameter to control this behavior.\n",
      "  _warn_prf(average, modifier, f\"{metric.capitalize()} is\", len(result))\n"
     ]
    },
    {
     "name": "stdout",
     "output_type": "stream",
     "text": [
      "\n",
      "---------------------------\n",
      "SVM --> KERNEL = poly:\n",
      "              precision    recall  f1-score   support\n",
      "\n",
      "       anger       0.38      0.98      0.55       263\n",
      "anticipation       0.00      0.00      0.00        79\n",
      "     disgust       0.00      0.00      0.00        27\n",
      "        fear       1.00      0.06      0.12        49\n",
      "         joy       0.64      0.14      0.23       166\n",
      "        love       0.00      0.00      0.00        15\n",
      "    optimism       0.00      0.00      0.00        16\n",
      "   pessimism       0.00      0.00      0.00        45\n",
      "     sadness       0.00      0.00      0.00        42\n",
      "    surprise       0.00      0.00      0.00         9\n",
      "       trust       0.00      0.00      0.00         2\n",
      "\n",
      "    accuracy                           0.40       713\n",
      "   macro avg       0.18      0.11      0.08       713\n",
      "weighted avg       0.36      0.40      0.26       713\n",
      "\n",
      "---------------------------\n"
     ]
    },
    {
     "name": "stderr",
     "output_type": "stream",
     "text": [
      "x:\\Repos\\PLN-FinalPr\\.venv\\lib\\site-packages\\sklearn\\metrics\\_classification.py:1509: UndefinedMetricWarning: Precision is ill-defined and being set to 0.0 in labels with no predicted samples. Use `zero_division` parameter to control this behavior.\n",
      "  _warn_prf(average, modifier, f\"{metric.capitalize()} is\", len(result))\n",
      "x:\\Repos\\PLN-FinalPr\\.venv\\lib\\site-packages\\sklearn\\metrics\\_classification.py:1509: UndefinedMetricWarning: Precision is ill-defined and being set to 0.0 in labels with no predicted samples. Use `zero_division` parameter to control this behavior.\n",
      "  _warn_prf(average, modifier, f\"{metric.capitalize()} is\", len(result))\n",
      "x:\\Repos\\PLN-FinalPr\\.venv\\lib\\site-packages\\sklearn\\metrics\\_classification.py:1509: UndefinedMetricWarning: Precision is ill-defined and being set to 0.0 in labels with no predicted samples. Use `zero_division` parameter to control this behavior.\n",
      "  _warn_prf(average, modifier, f\"{metric.capitalize()} is\", len(result))\n"
     ]
    },
    {
     "name": "stdout",
     "output_type": "stream",
     "text": [
      "\n",
      "---------------------------\n",
      "SVM --> KERNEL = rbf:\n",
      "              precision    recall  f1-score   support\n",
      "\n",
      "       anger       0.46      0.93      0.62       263\n",
      "anticipation       0.43      0.04      0.07        79\n",
      "     disgust       0.00      0.00      0.00        27\n",
      "        fear       0.93      0.29      0.44        49\n",
      "         joy       0.61      0.55      0.58       166\n",
      "        love       0.00      0.00      0.00        15\n",
      "    optimism       0.00      0.00      0.00        16\n",
      "   pessimism       0.33      0.02      0.04        45\n",
      "     sadness       0.69      0.21      0.33        42\n",
      "    surprise       0.00      0.00      0.00         9\n",
      "       trust       0.00      0.00      0.00         2\n",
      "\n",
      "    accuracy                           0.51       713\n",
      "   macro avg       0.31      0.19      0.19       713\n",
      "weighted avg       0.49      0.51      0.42       713\n",
      "\n",
      "---------------------------\n",
      "\n",
      "---------------------------\n",
      "SVM --> KERNEL = sigmoid:\n",
      "              precision    recall  f1-score   support\n",
      "\n",
      "       anger       0.51      0.86      0.64       263\n",
      "anticipation       0.56      0.11      0.19        79\n",
      "     disgust       0.00      0.00      0.00        27\n",
      "        fear       0.79      0.45      0.57        49\n",
      "         joy       0.57      0.64      0.60       166\n",
      "        love       0.00      0.00      0.00        15\n",
      "    optimism       0.00      0.00      0.00        16\n",
      "   pessimism       0.43      0.07      0.12        45\n",
      "     sadness       0.63      0.45      0.53        42\n",
      "    surprise       0.00      0.00      0.00         9\n",
      "       trust       0.00      0.00      0.00         2\n",
      "\n",
      "    accuracy                           0.54       713\n",
      "   macro avg       0.32      0.23      0.24       713\n",
      "weighted avg       0.50      0.54      0.47       713\n",
      "\n",
      "---------------------------\n"
     ]
    },
    {
     "name": "stderr",
     "output_type": "stream",
     "text": [
      "x:\\Repos\\PLN-FinalPr\\.venv\\lib\\site-packages\\sklearn\\metrics\\_classification.py:1509: UndefinedMetricWarning: Precision is ill-defined and being set to 0.0 in labels with no predicted samples. Use `zero_division` parameter to control this behavior.\n",
      "  _warn_prf(average, modifier, f\"{metric.capitalize()} is\", len(result))\n",
      "x:\\Repos\\PLN-FinalPr\\.venv\\lib\\site-packages\\sklearn\\metrics\\_classification.py:1509: UndefinedMetricWarning: Precision is ill-defined and being set to 0.0 in labels with no predicted samples. Use `zero_division` parameter to control this behavior.\n",
      "  _warn_prf(average, modifier, f\"{metric.capitalize()} is\", len(result))\n",
      "x:\\Repos\\PLN-FinalPr\\.venv\\lib\\site-packages\\sklearn\\metrics\\_classification.py:1509: UndefinedMetricWarning: Precision is ill-defined and being set to 0.0 in labels with no predicted samples. Use `zero_division` parameter to control this behavior.\n",
      "  _warn_prf(average, modifier, f\"{metric.capitalize()} is\", len(result))\n"
     ]
    }
   ],
   "source": [
    "kernels = ['linear', 'poly', 'rbf', 'sigmoid']\n",
    "for kernel in kernels:\n",
    "    modeloSVC = SVC(kernel=kernel)\n",
    "    modeloSVC.fit(X_train, y_train)\n",
    "    y_predicciones = modeloSVC.predict(X_val) # Predecimos el conjunto de testeo del validación para ver como se está comportando el model\n",
    "    print(f'\\n---------------------------\\nSVM --> KERNEL = {kernel}:\\n{classification_report(y_val, y_predicciones)}\\n---------------------------')"
   ]
  },
  {
   "cell_type": "markdown",
   "metadata": {},
   "source": [
    "Como podemos observar, el mejor hiperparámetro usado es 'linear' que es el que hemos usado en la primera ejecución por lo que nos quedamos con esos resultados, así que al igual que hemos dicho antes, el modelo no es resolutivo para este problema."
   ]
  },
  {
   "cell_type": "markdown",
   "metadata": {},
   "source": [
    "### Redes Recurrentes --> Long-Short Term Memory ( LSTM )"
   ]
  },
  {
   "cell_type": "markdown",
   "metadata": {},
   "source": [
    "Las Redes Neuronales Recurrentes son un tipo de red neuronal diseñado para procesar secuencias de datos (como texto). A diferencia de las NN tradicionales, las RNN tiene conexiones recurrentes que permiten que la información persista, lo que les da una memoria para capturar dependencias a lo largo del tiempo en una secuencia.\n",
    "\n",
    "La LSTM es una mejora sobre las RNN tradicionales, diseñadas específicamente para abordar el problema del *desvanecimiento del gradiente* y *explosión del gradiente*, que son problemas comunes en el entrenamiento de RNN debido a las largas dependencias temporales.\n",
    "\n",
    "<!-- Las LSTM son potentes para tareas de secuencia a secuencia debido a su capacidad para retener información a largo plazo y manejar dependencias temporales. Para nuestro contextom las LSTM pueden capturar el contexto y las dependeias de las palabras en una oración, lo que es crucial para entender y clasificar las emociones correctamente, -->"
   ]
  },
  {
   "cell_type": "markdown",
   "metadata": {},
   "source": [
    "Voy a volver a cargar y realizar las primeras operaciones para poder ejecutar el bloque entero únicamente en collab debido a las limitaciones de mi máquina"
   ]
  },
  {
   "cell_type": "markdown",
   "metadata": {},
   "source": [
    "Cargo datos"
   ]
  },
  {
   "cell_type": "code",
   "execution_count": null,
   "metadata": {},
   "outputs": [],
   "source": [
    "train_data = pd.read_csv('Data/Train/sem_eval_train_es.csv')\n",
    "test_data = pd.read_csv('Data/Test/sem_eval_test_grupo_10.csv')\n",
    "train_data.shape, test_data.shape"
   ]
  },
  {
   "cell_type": "code",
   "execution_count": null,
   "metadata": {},
   "outputs": [],
   "source": [
    "train_data = train_data.drop(['ID'], axis=1)\n",
    "test_data = test_data.drop(['ID'], axis=1)\n",
    "train_data.shape, test_data.shape"
   ]
  },
  {
   "cell_type": "code",
   "execution_count": null,
   "metadata": {},
   "outputs": [],
   "source": [
    "test_data = test_data['Tweet']\n",
    "test_data.shape"
   ]
  },
  {
   "cell_type": "code",
   "execution_count": null,
   "metadata": {},
   "outputs": [],
   "source": [
    "X = train_data['Tweet']\n",
    "y = train_data.drop(['Tweet'], axis=1)"
   ]
  },
  {
   "cell_type": "code",
   "execution_count": 210,
   "metadata": {},
   "outputs": [
    {
     "name": "stdout",
     "output_type": "stream",
     "text": [
      "(3561,) (3561, 11) \n",
      "\n",
      "0    @aliciaenp Ajajjaa somos del clan twitteras pe...\n",
      "1    @AwadaNai la mala suerte del gato fichame la c...\n",
      "2    @audiomano A mí tampoco me agrado mucho eso. E...\n",
      "3    Para llevar a los bebes de un lugar a otro deb...\n",
      "4    @DalasReview me encanta la terrible hipocresia...\n",
      "Name: Tweet, dtype: object \n",
      "\n",
      "   anger  anticipation  disgust   fear    joy   love  optimism  pessimism  \\\n",
      "0  False         False    False  False   True  False     False      False   \n",
      "1  False         False    False   True  False  False     False       True   \n",
      "2   True         False    False  False  False  False     False      False   \n",
      "3  False         False    False  False   True  False     False      False   \n",
      "4   True         False     True  False  False  False     False      False   \n",
      "\n",
      "   sadness  surprise  trust  \n",
      "0    False     False  False  \n",
      "1    False     False  False  \n",
      "2    False     False  False  \n",
      "3    False     False  False  \n",
      "4    False     False  False  \n"
     ]
    }
   ],
   "source": [
    "X = train_data['Tweet']\n",
    "y = train_data.drop(['Tweet'], axis=1)\n",
    "print(X.shape, y.shape, '\\n')\n",
    "print(X.head(), '\\n')\n",
    "print(y.head())"
   ]
  },
  {
   "cell_type": "markdown",
   "metadata": {},
   "source": [
    "##### Tokenizamos"
   ]
  },
  {
   "cell_type": "code",
   "execution_count": 226,
   "metadata": {},
   "outputs": [],
   "source": [
    "max_words = 5000\n",
    "# Creamos el tokenizer\n",
    "tokenizer = Tokenizer(num_words=max_words, split=' ')\n",
    "tokenizer.fit_on_texts(X.values)\n",
    "# Tokenizamos el texto\n",
    "X_tokenized = tokenizer.texts_to_sequences(X.values)\n",
    "X_padded = pad_sequences(X_tokenized, maxlen=100)"
   ]
  },
  {
   "cell_type": "markdown",
   "metadata": {},
   "source": [
    "No necesitamos codificar las etiquetas ya que las tenemos en formato ( f ,f ,f ,f ,t ,f ,f ,f ,f )"
   ]
  },
  {
   "cell_type": "markdown",
   "metadata": {},
   "source": [
    "##### Dividimos Train-Validation"
   ]
  },
  {
   "cell_type": "code",
   "execution_count": 227,
   "metadata": {},
   "outputs": [
    {
     "data": {
      "text/plain": [
       "((3204, 100), (357, 100), (3204, 11), (357, 11))"
      ]
     },
     "execution_count": 227,
     "metadata": {},
     "output_type": "execute_result"
    }
   ],
   "source": [
    "X_train, X_val, y_train, y_val = train_test_split(X_padded, y.astype(int).values, test_size=0.1, random_state=42)\n",
    "X_train.shape, X_val.shape, y_train.shape, y_val.shape"
   ]
  },
  {
   "cell_type": "markdown",
   "metadata": {},
   "source": [
    "##### Definimos el modelo"
   ]
  },
  {
   "cell_type": "code",
   "execution_count": 228,
   "metadata": {},
   "outputs": [
    {
     "name": "stderr",
     "output_type": "stream",
     "text": [
      "x:\\Repos\\PLN-FinalPr\\.venv\\lib\\site-packages\\keras\\src\\layers\\core\\embedding.py:90: UserWarning: Argument `input_length` is deprecated. Just remove it.\n",
      "  warnings.warn(\n"
     ]
    },
    {
     "data": {
      "text/html": [
       "<pre style=\"white-space:pre;overflow-x:auto;line-height:normal;font-family:Menlo,'DejaVu Sans Mono',consolas,'Courier New',monospace\"><span style=\"font-weight: bold\">Model: \"sequential_2\"</span>\n",
       "</pre>\n"
      ],
      "text/plain": [
       "\u001b[1mModel: \"sequential_2\"\u001b[0m\n"
      ]
     },
     "metadata": {},
     "output_type": "display_data"
    },
    {
     "data": {
      "text/html": [
       "<pre style=\"white-space:pre;overflow-x:auto;line-height:normal;font-family:Menlo,'DejaVu Sans Mono',consolas,'Courier New',monospace\">┏━━━━━━━━━━━━━━━━━━━━━━━━━━━━━━━━━┳━━━━━━━━━━━━━━━━━━━━━━━━┳━━━━━━━━━━━━━━━┓\n",
       "┃<span style=\"font-weight: bold\"> Layer (type)                    </span>┃<span style=\"font-weight: bold\"> Output Shape           </span>┃<span style=\"font-weight: bold\">       Param # </span>┃\n",
       "┡━━━━━━━━━━━━━━━━━━━━━━━━━━━━━━━━━╇━━━━━━━━━━━━━━━━━━━━━━━━╇━━━━━━━━━━━━━━━┩\n",
       "│ embedding_2 (<span style=\"color: #0087ff; text-decoration-color: #0087ff\">Embedding</span>)         │ ?                      │   <span style=\"color: #00af00; text-decoration-color: #00af00\">0</span> (unbuilt) │\n",
       "├─────────────────────────────────┼────────────────────────┼───────────────┤\n",
       "│ spatial_dropout1d_2             │ ?                      │   <span style=\"color: #00af00; text-decoration-color: #00af00\">0</span> (unbuilt) │\n",
       "│ (<span style=\"color: #0087ff; text-decoration-color: #0087ff\">SpatialDropout1D</span>)              │                        │               │\n",
       "├─────────────────────────────────┼────────────────────────┼───────────────┤\n",
       "│ lstm_2 (<span style=\"color: #0087ff; text-decoration-color: #0087ff\">LSTM</span>)                   │ ?                      │   <span style=\"color: #00af00; text-decoration-color: #00af00\">0</span> (unbuilt) │\n",
       "├─────────────────────────────────┼────────────────────────┼───────────────┤\n",
       "│ dense_2 (<span style=\"color: #0087ff; text-decoration-color: #0087ff\">Dense</span>)                 │ ?                      │   <span style=\"color: #00af00; text-decoration-color: #00af00\">0</span> (unbuilt) │\n",
       "└─────────────────────────────────┴────────────────────────┴───────────────┘\n",
       "</pre>\n"
      ],
      "text/plain": [
       "┏━━━━━━━━━━━━━━━━━━━━━━━━━━━━━━━━━┳━━━━━━━━━━━━━━━━━━━━━━━━┳━━━━━━━━━━━━━━━┓\n",
       "┃\u001b[1m \u001b[0m\u001b[1mLayer (type)                   \u001b[0m\u001b[1m \u001b[0m┃\u001b[1m \u001b[0m\u001b[1mOutput Shape          \u001b[0m\u001b[1m \u001b[0m┃\u001b[1m \u001b[0m\u001b[1m      Param #\u001b[0m\u001b[1m \u001b[0m┃\n",
       "┡━━━━━━━━━━━━━━━━━━━━━━━━━━━━━━━━━╇━━━━━━━━━━━━━━━━━━━━━━━━╇━━━━━━━━━━━━━━━┩\n",
       "│ embedding_2 (\u001b[38;5;33mEmbedding\u001b[0m)         │ ?                      │   \u001b[38;5;34m0\u001b[0m (unbuilt) │\n",
       "├─────────────────────────────────┼────────────────────────┼───────────────┤\n",
       "│ spatial_dropout1d_2             │ ?                      │   \u001b[38;5;34m0\u001b[0m (unbuilt) │\n",
       "│ (\u001b[38;5;33mSpatialDropout1D\u001b[0m)              │                        │               │\n",
       "├─────────────────────────────────┼────────────────────────┼───────────────┤\n",
       "│ lstm_2 (\u001b[38;5;33mLSTM\u001b[0m)                   │ ?                      │   \u001b[38;5;34m0\u001b[0m (unbuilt) │\n",
       "├─────────────────────────────────┼────────────────────────┼───────────────┤\n",
       "│ dense_2 (\u001b[38;5;33mDense\u001b[0m)                 │ ?                      │   \u001b[38;5;34m0\u001b[0m (unbuilt) │\n",
       "└─────────────────────────────────┴────────────────────────┴───────────────┘\n"
      ]
     },
     "metadata": {},
     "output_type": "display_data"
    },
    {
     "data": {
      "text/html": [
       "<pre style=\"white-space:pre;overflow-x:auto;line-height:normal;font-family:Menlo,'DejaVu Sans Mono',consolas,'Courier New',monospace\"><span style=\"font-weight: bold\"> Total params: </span><span style=\"color: #00af00; text-decoration-color: #00af00\">0</span> (0.00 B)\n",
       "</pre>\n"
      ],
      "text/plain": [
       "\u001b[1m Total params: \u001b[0m\u001b[38;5;34m0\u001b[0m (0.00 B)\n"
      ]
     },
     "metadata": {},
     "output_type": "display_data"
    },
    {
     "data": {
      "text/html": [
       "<pre style=\"white-space:pre;overflow-x:auto;line-height:normal;font-family:Menlo,'DejaVu Sans Mono',consolas,'Courier New',monospace\"><span style=\"font-weight: bold\"> Trainable params: </span><span style=\"color: #00af00; text-decoration-color: #00af00\">0</span> (0.00 B)\n",
       "</pre>\n"
      ],
      "text/plain": [
       "\u001b[1m Trainable params: \u001b[0m\u001b[38;5;34m0\u001b[0m (0.00 B)\n"
      ]
     },
     "metadata": {},
     "output_type": "display_data"
    },
    {
     "data": {
      "text/html": [
       "<pre style=\"white-space:pre;overflow-x:auto;line-height:normal;font-family:Menlo,'DejaVu Sans Mono',consolas,'Courier New',monospace\"><span style=\"font-weight: bold\"> Non-trainable params: </span><span style=\"color: #00af00; text-decoration-color: #00af00\">0</span> (0.00 B)\n",
       "</pre>\n"
      ],
      "text/plain": [
       "\u001b[1m Non-trainable params: \u001b[0m\u001b[38;5;34m0\u001b[0m (0.00 B)\n"
      ]
     },
     "metadata": {},
     "output_type": "display_data"
    }
   ],
   "source": [
    "modelLSTM = Sequential([\n",
    "    Embedding(max_words, 128, input_length=X_train.shape[1]),\n",
    "    SpatialDropout1D(0.2),\n",
    "    LSTM(100, dropout=.2, recurrent_dropout=.2),\n",
    "    Dense(y.shape[1], activation='sigmoid')\n",
    "])\n",
    "modelLSTM.compile(loss='binary_crossentropy', optimizer=Adam(learning_rate=.001), metrics=['accuracy'])\n",
    "modelLSTM.summary()"
   ]
  },
  {
   "cell_type": "markdown",
   "metadata": {},
   "source": [
    "voy a comprobar si tenemos nucleos cuda para poder acelerar el entrenamiento"
   ]
  },
  {
   "cell_type": "code",
   "execution_count": 250,
   "metadata": {},
   "outputs": [
    {
     "name": "stdout",
     "output_type": "stream",
     "text": [
      "Num GPU Available:  0\n"
     ]
    }
   ],
   "source": [
    "print(\"Num GPU Available: \", len(tf.config.experimental.list_physical_devices('GPU')))"
   ]
  },
  {
   "cell_type": "markdown",
   "metadata": {},
   "source": [
    "Entrenamos el modelo"
   ]
  },
  {
   "cell_type": "code",
   "execution_count": 259,
   "metadata": {},
   "outputs": [
    {
     "name": "stdout",
     "output_type": "stream",
     "text": [
      "Epoch 1/8\n",
      "\u001b[1m51/51\u001b[0m \u001b[32m━━━━━━━━━━━━━━━━━━━━\u001b[0m\u001b[37m\u001b[0m \u001b[1m3s\u001b[0m 53ms/step - accuracy: 0.6692 - loss: 0.0048 - val_accuracy: 0.4090 - val_loss: 1.1183\n",
      "Epoch 2/8\n",
      "\u001b[1m51/51\u001b[0m \u001b[32m━━━━━━━━━━━━━━━━━━━━\u001b[0m\u001b[37m\u001b[0m \u001b[1m3s\u001b[0m 52ms/step - accuracy: 0.6973 - loss: 0.0036 - val_accuracy: 0.4006 - val_loss: 1.1182\n",
      "Epoch 3/8\n",
      "\u001b[1m51/51\u001b[0m \u001b[32m━━━━━━━━━━━━━━━━━━━━\u001b[0m\u001b[37m\u001b[0m \u001b[1m3s\u001b[0m 54ms/step - accuracy: 0.6801 - loss: 0.0037 - val_accuracy: 0.3950 - val_loss: 1.1255\n",
      "Epoch 4/8\n",
      "\u001b[1m51/51\u001b[0m \u001b[32m━━━━━━━━━━━━━━━━━━━━\u001b[0m\u001b[37m\u001b[0m \u001b[1m3s\u001b[0m 54ms/step - accuracy: 0.6742 - loss: 0.0043 - val_accuracy: 0.4006 - val_loss: 1.1240\n",
      "Epoch 5/8\n",
      "\u001b[1m51/51\u001b[0m \u001b[32m━━━━━━━━━━━━━━━━━━━━\u001b[0m\u001b[37m\u001b[0m \u001b[1m3s\u001b[0m 55ms/step - accuracy: 0.6991 - loss: 0.0044 - val_accuracy: 0.4090 - val_loss: 1.1278\n",
      "Epoch 6/8\n",
      "\u001b[1m51/51\u001b[0m \u001b[32m━━━━━━━━━━━━━━━━━━━━\u001b[0m\u001b[37m\u001b[0m \u001b[1m3s\u001b[0m 51ms/step - accuracy: 0.6609 - loss: 0.0038 - val_accuracy: 0.4146 - val_loss: 1.1302\n",
      "Epoch 7/8\n",
      "\u001b[1m51/51\u001b[0m \u001b[32m━━━━━━━━━━━━━━━━━━━━\u001b[0m\u001b[37m\u001b[0m \u001b[1m3s\u001b[0m 51ms/step - accuracy: 0.6822 - loss: 0.0056 - val_accuracy: 0.4006 - val_loss: 1.1418\n",
      "Epoch 8/8\n",
      "\u001b[1m51/51\u001b[0m \u001b[32m━━━━━━━━━━━━━━━━━━━━\u001b[0m\u001b[37m\u001b[0m \u001b[1m3s\u001b[0m 50ms/step - accuracy: 0.6773 - loss: 0.0056 - val_accuracy: 0.4146 - val_loss: 1.1226\n"
     ]
    }
   ],
   "source": [
    "history = modelLSTM.fit(X_train, y_train, epochs=8, batch_size=64, validation_data=(X_val, y_val), verbose=2)"
   ]
  },
  {
   "cell_type": "code",
   "execution_count": 260,
   "metadata": {},
   "outputs": [
    {
     "name": "stdout",
     "output_type": "stream",
     "text": [
      "\u001b[1m12/12\u001b[0m \u001b[32m━━━━━━━━━━━━━━━━━━━━\u001b[0m\u001b[37m\u001b[0m \u001b[1m0s\u001b[0m 10ms/step - accuracy: 0.4168 - loss: 1.1209\n",
      "Loss: \t\t1.1226454973220825\n",
      "Accuracy: \t0.4145658314228058\n"
     ]
    }
   ],
   "source": [
    "loss, accuracy = modelLSTM.evaluate(X_val, y_val)\n",
    "print(f'Loss: \\t\\t{loss}\\nAccuracy: \\t{accuracy}')"
   ]
  },
  {
   "cell_type": "markdown",
   "metadata": {},
   "source": [
    "Mostramos el classification report"
   ]
  },
  {
   "cell_type": "code",
   "execution_count": 261,
   "metadata": {},
   "outputs": [
    {
     "name": "stdout",
     "output_type": "stream",
     "text": [
      "\u001b[1m12/12\u001b[0m \u001b[32m━━━━━━━━━━━━━━━━━━━━\u001b[0m\u001b[37m\u001b[0m \u001b[1m0s\u001b[0m 10ms/step\n",
      "              precision    recall  f1-score   support\n",
      "\n",
      "       anger       0.53      0.53      0.53       109\n",
      "anticipation       0.24      0.28      0.26        47\n",
      "     disgust       0.31      0.25      0.28        48\n",
      "        fear       0.56      0.59      0.57        34\n",
      "         joy       0.57      0.67      0.62       109\n",
      "        love       0.48      0.40      0.43        25\n",
      "    optimism       0.37      0.33      0.35        43\n",
      "   pessimism       0.35      0.40      0.37        57\n",
      "     sadness       0.39      0.43      0.41        74\n",
      "    surprise       0.44      0.19      0.27        21\n",
      "       trust       0.14      0.11      0.12        19\n",
      "\n",
      "   micro avg       0.44      0.45      0.44       586\n",
      "   macro avg       0.40      0.38      0.38       586\n",
      "weighted avg       0.43      0.45      0.44       586\n",
      " samples avg       0.45      0.45      0.42       586\n",
      "\n"
     ]
    },
    {
     "name": "stderr",
     "output_type": "stream",
     "text": [
      "x:\\Repos\\PLN-FinalPr\\.venv\\lib\\site-packages\\sklearn\\metrics\\_classification.py:1509: UndefinedMetricWarning: Precision is ill-defined and being set to 0.0 in samples with no predicted labels. Use `zero_division` parameter to control this behavior.\n",
      "  _warn_prf(average, modifier, f\"{metric.capitalize()} is\", len(result))\n",
      "x:\\Repos\\PLN-FinalPr\\.venv\\lib\\site-packages\\sklearn\\metrics\\_classification.py:1509: UndefinedMetricWarning: Recall is ill-defined and being set to 0.0 in samples with no true labels. Use `zero_division` parameter to control this behavior.\n",
      "  _warn_prf(average, modifier, f\"{metric.capitalize()} is\", len(result))\n",
      "x:\\Repos\\PLN-FinalPr\\.venv\\lib\\site-packages\\sklearn\\metrics\\_classification.py:1509: UndefinedMetricWarning: F-score is ill-defined and being set to 0.0 in samples with no true nor predicted labels. Use `zero_division` parameter to control this behavior.\n",
      "  _warn_prf(average, modifier, f\"{metric.capitalize()} is\", len(result))\n"
     ]
    }
   ],
   "source": [
    "y_pred = modelLSTM.predict(X_val)\n",
    "y_pred = (y_pred > .5 ).astype(int)\n",
    "print(classification_report(y_val, y_pred, target_names=y.columns))"
   ]
  },
  {
   "cell_type": "code",
   "execution_count": 262,
   "metadata": {},
   "outputs": [
    {
     "data": {
      "image/png": "[encoded data removed]",
      "text/plain": [
       "<Figure size 1200x600 with 2 Axes>"
      ]
     },
     "metadata": {},
     "output_type": "display_data"
    }
   ],
   "source": [
    "# Gráfico de la pérdida\n",
    "plt.figure(figsize=(12,6))\n",
    "# Gráfico de la 'loss'\n",
    "plt.subplot(1,2,1)\n",
    "plt.plot(history.history['loss'], label='Training Loss', color='red')\n",
    "plt.plot(history.history['val_loss'], label='Validation Loss', color='blue')\n",
    "plt.title('Training and Validation Loss')\n",
    "plt.xlabel('Epoch')\n",
    "plt.ylabel('Loss')\n",
    "plt.legend()\n",
    "plt.grid(True)\n",
    "# Gráfico de la 'precisión'\n",
    "plt.subplot(1,2,2)\n",
    "plt.plot(history.history['accuracy'], label='Training Accuracy', color='red')\n",
    "plt.plot(history.history['val_accuracy'], label='Validation Accuracy', color='blue')\n",
    "plt.title('Training and Validation Accuracy')\n",
    "plt.xlabel('Epoch')\n",
    "plt.ylabel('Accuracy')\n",
    "plt.legend()\n",
    "plt.grid(True)\n",
    "#\n",
    "plt.show()"
   ]
  }
 ],
 "metadata": {
  "kernelspec": {
   "display_name": "Python 3",
   "language": "python",
   "name": "python3"
  },
  "language_info": {
   "codemirror_mode": {
    "name": "ipython",
    "version": 3
   },
   "file_extension": ".py",
   "mimetype": "text/x-python",
   "name": "python",
   "nbconvert_exporter": "python",
   "pygments_lexer": "ipython3",
   "version": "3.9.6"
  }
 },
 "nbformat": 4,
 "nbformat_minor": 2
}
